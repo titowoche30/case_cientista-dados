{
 "cells": [
  {
   "cell_type": "code",
   "execution_count": 1,
   "metadata": {},
   "outputs": [],
   "source": [
    "import numpy as np\n",
    "import pandas as pd\n",
    "import matplotlib.pyplot as plt\n",
    "import seaborn as sns \n",
    "import time\n",
    "import plotly.express as px\n",
    "import plotly.graph_objects as go\n",
    "from sklearn.model_selection import GridSearchCV\n",
    "from sklearn.model_selection import train_test_split\n",
    "from sklearn.model_selection import cross_val_score\n",
    "from sklearn.metrics import confusion_matrix\n",
    "from sklearn.metrics import classification_report\n",
    "from sklearn.preprocessing import MinMaxScaler\n",
    "from sklearn.model_selection import StratifiedKFold\n",
    "from sklearn.tree import DecisionTreeClassifier\n",
    "from sklearn.neighbors import KNeighborsClassifier\n",
    "from sklearn.ensemble import RandomForestClassifier\n",
    "from sklearn.linear_model import LogisticRegression\n",
    "from sklearn.ensemble import GradientBoostingClassifier\n",
    "from sklearn.naive_bayes import GaussianNB\n",
    "from joblib import dump, load\n"
   ]
  },
  {
   "cell_type": "markdown",
   "metadata": {},
   "source": [
    "# 1 - Dados"
   ]
  },
  {
   "cell_type": "code",
   "execution_count": 2,
   "metadata": {},
   "outputs": [
    {
     "data": {
      "text/html": [
       "<div>\n",
       "<style scoped>\n",
       "    .dataframe tbody tr th:only-of-type {\n",
       "        vertical-align: middle;\n",
       "    }\n",
       "\n",
       "    .dataframe tbody tr th {\n",
       "        vertical-align: top;\n",
       "    }\n",
       "\n",
       "    .dataframe thead th {\n",
       "        text-align: right;\n",
       "    }\n",
       "</style>\n",
       "<table border=\"1\" class=\"dataframe\">\n",
       "  <thead>\n",
       "    <tr style=\"text-align: right;\">\n",
       "      <th></th>\n",
       "      <th></th>\n",
       "      <th>mintemp</th>\n",
       "      <th>maxtemp</th>\n",
       "      <th>rainfall</th>\n",
       "      <th>evaporation</th>\n",
       "      <th>sunshine</th>\n",
       "      <th>humidity9am</th>\n",
       "      <th>humidity3pm</th>\n",
       "      <th>pressure9am</th>\n",
       "      <th>pressure3pm</th>\n",
       "      <th>cloud9am</th>\n",
       "      <th>...</th>\n",
       "      <th>temp9am</th>\n",
       "      <th>temp3pm</th>\n",
       "      <th>raintoday</th>\n",
       "      <th>raintomorrow</th>\n",
       "      <th>winddir3pm_wind</th>\n",
       "      <th>winddir9am_wind</th>\n",
       "      <th>windgustdir_wind</th>\n",
       "      <th>windgustspeed_wind</th>\n",
       "      <th>windspeed3pm_wind</th>\n",
       "      <th>windspeed9am_wind</th>\n",
       "    </tr>\n",
       "    <tr>\n",
       "      <th>date</th>\n",
       "      <th>location</th>\n",
       "      <th></th>\n",
       "      <th></th>\n",
       "      <th></th>\n",
       "      <th></th>\n",
       "      <th></th>\n",
       "      <th></th>\n",
       "      <th></th>\n",
       "      <th></th>\n",
       "      <th></th>\n",
       "      <th></th>\n",
       "      <th></th>\n",
       "      <th></th>\n",
       "      <th></th>\n",
       "      <th></th>\n",
       "      <th></th>\n",
       "      <th></th>\n",
       "      <th></th>\n",
       "      <th></th>\n",
       "      <th></th>\n",
       "      <th></th>\n",
       "      <th></th>\n",
       "    </tr>\n",
       "  </thead>\n",
       "  <tbody>\n",
       "    <tr>\n",
       "      <th>2007-11-01</th>\n",
       "      <th>Canberra</th>\n",
       "      <td>8.0</td>\n",
       "      <td>24.3</td>\n",
       "      <td>0.0</td>\n",
       "      <td>3.4</td>\n",
       "      <td>6.3</td>\n",
       "      <td>68.0</td>\n",
       "      <td>29.0</td>\n",
       "      <td>1019.7</td>\n",
       "      <td>1015.0</td>\n",
       "      <td>7.0</td>\n",
       "      <td>...</td>\n",
       "      <td>14.4</td>\n",
       "      <td>23.6</td>\n",
       "      <td>0.0</td>\n",
       "      <td>1</td>\n",
       "      <td>NW</td>\n",
       "      <td>SW</td>\n",
       "      <td>NW</td>\n",
       "      <td>30.0</td>\n",
       "      <td>20.0</td>\n",
       "      <td>6.0</td>\n",
       "    </tr>\n",
       "    <tr>\n",
       "      <th>2007-11-02</th>\n",
       "      <th>Canberra</th>\n",
       "      <td>14.0</td>\n",
       "      <td>26.9</td>\n",
       "      <td>3.6</td>\n",
       "      <td>4.4</td>\n",
       "      <td>9.7</td>\n",
       "      <td>80.0</td>\n",
       "      <td>36.0</td>\n",
       "      <td>1012.4</td>\n",
       "      <td>1008.4</td>\n",
       "      <td>5.0</td>\n",
       "      <td>...</td>\n",
       "      <td>17.5</td>\n",
       "      <td>25.7</td>\n",
       "      <td>1.0</td>\n",
       "      <td>1</td>\n",
       "      <td>W</td>\n",
       "      <td>E</td>\n",
       "      <td>ENE</td>\n",
       "      <td>39.0</td>\n",
       "      <td>17.0</td>\n",
       "      <td>4.0</td>\n",
       "    </tr>\n",
       "    <tr>\n",
       "      <th>2007-11-03</th>\n",
       "      <th>Canberra</th>\n",
       "      <td>13.7</td>\n",
       "      <td>23.4</td>\n",
       "      <td>3.6</td>\n",
       "      <td>5.8</td>\n",
       "      <td>3.3</td>\n",
       "      <td>82.0</td>\n",
       "      <td>69.0</td>\n",
       "      <td>1009.5</td>\n",
       "      <td>1007.2</td>\n",
       "      <td>8.0</td>\n",
       "      <td>...</td>\n",
       "      <td>15.4</td>\n",
       "      <td>20.2</td>\n",
       "      <td>1.0</td>\n",
       "      <td>1</td>\n",
       "      <td>NNE</td>\n",
       "      <td>N</td>\n",
       "      <td>NW</td>\n",
       "      <td>85.0</td>\n",
       "      <td>6.0</td>\n",
       "      <td>6.0</td>\n",
       "    </tr>\n",
       "    <tr>\n",
       "      <th>2007-11-04</th>\n",
       "      <th>Canberra</th>\n",
       "      <td>13.3</td>\n",
       "      <td>15.5</td>\n",
       "      <td>39.8</td>\n",
       "      <td>7.2</td>\n",
       "      <td>9.1</td>\n",
       "      <td>62.0</td>\n",
       "      <td>56.0</td>\n",
       "      <td>1005.5</td>\n",
       "      <td>1007.0</td>\n",
       "      <td>2.0</td>\n",
       "      <td>...</td>\n",
       "      <td>13.5</td>\n",
       "      <td>14.1</td>\n",
       "      <td>1.0</td>\n",
       "      <td>1</td>\n",
       "      <td>W</td>\n",
       "      <td>WNW</td>\n",
       "      <td>NW</td>\n",
       "      <td>54.0</td>\n",
       "      <td>24.0</td>\n",
       "      <td>30.0</td>\n",
       "    </tr>\n",
       "    <tr>\n",
       "      <th>2007-11-05</th>\n",
       "      <th>Canberra</th>\n",
       "      <td>7.6</td>\n",
       "      <td>16.1</td>\n",
       "      <td>2.8</td>\n",
       "      <td>5.6</td>\n",
       "      <td>10.6</td>\n",
       "      <td>68.0</td>\n",
       "      <td>49.0</td>\n",
       "      <td>1018.3</td>\n",
       "      <td>1018.5</td>\n",
       "      <td>7.0</td>\n",
       "      <td>...</td>\n",
       "      <td>11.1</td>\n",
       "      <td>15.4</td>\n",
       "      <td>1.0</td>\n",
       "      <td>0</td>\n",
       "      <td>ESE</td>\n",
       "      <td>SSE</td>\n",
       "      <td>SSE</td>\n",
       "      <td>50.0</td>\n",
       "      <td>28.0</td>\n",
       "      <td>20.0</td>\n",
       "    </tr>\n",
       "  </tbody>\n",
       "</table>\n",
       "<p>5 rows × 21 columns</p>\n",
       "</div>"
      ],
      "text/plain": [
       "                     mintemp  maxtemp  rainfall  evaporation  sunshine  \\\n",
       "date       location                                                      \n",
       "2007-11-01 Canberra      8.0     24.3       0.0          3.4       6.3   \n",
       "2007-11-02 Canberra     14.0     26.9       3.6          4.4       9.7   \n",
       "2007-11-03 Canberra     13.7     23.4       3.6          5.8       3.3   \n",
       "2007-11-04 Canberra     13.3     15.5      39.8          7.2       9.1   \n",
       "2007-11-05 Canberra      7.6     16.1       2.8          5.6      10.6   \n",
       "\n",
       "                     humidity9am  humidity3pm  pressure9am  pressure3pm  \\\n",
       "date       location                                                       \n",
       "2007-11-01 Canberra         68.0         29.0       1019.7       1015.0   \n",
       "2007-11-02 Canberra         80.0         36.0       1012.4       1008.4   \n",
       "2007-11-03 Canberra         82.0         69.0       1009.5       1007.2   \n",
       "2007-11-04 Canberra         62.0         56.0       1005.5       1007.0   \n",
       "2007-11-05 Canberra         68.0         49.0       1018.3       1018.5   \n",
       "\n",
       "                     cloud9am  ...  temp9am  temp3pm  raintoday  raintomorrow  \\\n",
       "date       location            ...                                              \n",
       "2007-11-01 Canberra       7.0  ...     14.4     23.6        0.0             1   \n",
       "2007-11-02 Canberra       5.0  ...     17.5     25.7        1.0             1   \n",
       "2007-11-03 Canberra       8.0  ...     15.4     20.2        1.0             1   \n",
       "2007-11-04 Canberra       2.0  ...     13.5     14.1        1.0             1   \n",
       "2007-11-05 Canberra       7.0  ...     11.1     15.4        1.0             0   \n",
       "\n",
       "                     winddir3pm_wind winddir9am_wind windgustdir_wind  \\\n",
       "date       location                                                     \n",
       "2007-11-01 Canberra               NW              SW               NW   \n",
       "2007-11-02 Canberra                W               E              ENE   \n",
       "2007-11-03 Canberra              NNE               N               NW   \n",
       "2007-11-04 Canberra                W             WNW               NW   \n",
       "2007-11-05 Canberra              ESE             SSE              SSE   \n",
       "\n",
       "                    windgustspeed_wind  windspeed3pm_wind  windspeed9am_wind  \n",
       "date       location                                                           \n",
       "2007-11-01 Canberra               30.0               20.0                6.0  \n",
       "2007-11-02 Canberra               39.0               17.0                4.0  \n",
       "2007-11-03 Canberra               85.0                6.0                6.0  \n",
       "2007-11-04 Canberra               54.0               24.0               30.0  \n",
       "2007-11-05 Canberra               50.0               28.0               20.0  \n",
       "\n",
       "[5 rows x 21 columns]"
      ]
     },
     "execution_count": 2,
     "metadata": {},
     "output_type": "execute_result"
    }
   ],
   "source": [
    "rain_data = pd.read_pickle('./data/rain_data_aed.pkl')\n",
    "rain_data.head()"
   ]
  },
  {
   "cell_type": "code",
   "execution_count": 3,
   "metadata": {},
   "outputs": [],
   "source": [
    "rain_data = rain_data.reset_index()"
   ]
  },
  {
   "cell_type": "markdown",
   "metadata": {},
   "source": [
    "# 2 - Split de treino e teste"
   ]
  },
  {
   "cell_type": "code",
   "execution_count": 5,
   "metadata": {},
   "outputs": [
    {
     "data": {
      "text/plain": [
       "127338"
      ]
     },
     "execution_count": 5,
     "metadata": {},
     "output_type": "execute_result"
    }
   ],
   "source": [
    "num_negs=rain_data[rain_data['raintomorrow'] == 0].shape[0]\n",
    "num_negs"
   ]
  },
  {
   "cell_type": "code",
   "execution_count": 6,
   "metadata": {},
   "outputs": [
    {
     "data": {
      "text/plain": [
       "37048"
      ]
     },
     "execution_count": 6,
     "metadata": {},
     "output_type": "execute_result"
    }
   ],
   "source": [
    "num_pos=rain_data[rain_data['raintomorrow'] == 1].shape[0]\n",
    "num_pos"
   ]
  },
  {
   "cell_type": "markdown",
   "metadata": {},
   "source": [
    "### Muito mais sem chuva do que com chuva, vou dropar alguns dos sem chuva"
   ]
  },
  {
   "cell_type": "code",
   "execution_count": 7,
   "metadata": {},
   "outputs": [],
   "source": [
    "rain_data_negative = rain_data[rain_data['raintomorrow'] == 0]\n",
    "inds_negatives = np.array(rain_data_negative.index)\n",
    "np.random.shuffle(inds_negatives[:(num_negs-num_pos)])\n",
    "rain_data.drop(inds_negatives[:(num_negs-num_pos)],axis=0,inplace=True)\n",
    " "
   ]
  },
  {
   "cell_type": "code",
   "execution_count": 8,
   "metadata": {},
   "outputs": [
    {
     "data": {
      "text/plain": [
       "37048"
      ]
     },
     "execution_count": 8,
     "metadata": {},
     "output_type": "execute_result"
    }
   ],
   "source": [
    "rain_data[rain_data['raintomorrow'] == 0].shape[0]"
   ]
  },
  {
   "cell_type": "code",
   "execution_count": 9,
   "metadata": {},
   "outputs": [
    {
     "data": {
      "text/plain": [
       "37048"
      ]
     },
     "execution_count": 9,
     "metadata": {},
     "output_type": "execute_result"
    }
   ],
   "source": [
    "rain_data[rain_data['raintomorrow'] == 1].shape[0]"
   ]
  },
  {
   "cell_type": "code",
   "execution_count": 10,
   "metadata": {},
   "outputs": [],
   "source": [
    "rain_data = rain_data.reset_index()"
   ]
  },
  {
   "cell_type": "code",
   "execution_count": 11,
   "metadata": {},
   "outputs": [],
   "source": [
    "X = rain_data.drop(['raintomorrow','date'], axis=1)\n",
    "y = rain_data['raintomorrow']"
   ]
  },
  {
   "cell_type": "code",
   "execution_count": 12,
   "metadata": {},
   "outputs": [],
   "source": [
    "X_train, X_test, y_train, y_test = train_test_split(X, y, test_size = 0.3, random_state = 0)"
   ]
  },
  {
   "cell_type": "code",
   "execution_count": 13,
   "metadata": {},
   "outputs": [
    {
     "name": "stdout",
     "output_type": "stream",
     "text": [
      "<class 'pandas.core.frame.DataFrame'>\n",
      "Int64Index: 51867 entries, 49228 to 68268\n",
      "Data columns (total 22 columns):\n",
      " #   Column              Non-Null Count  Dtype  \n",
      "---  ------              --------------  -----  \n",
      " 0   index               51867 non-null  int64  \n",
      " 1   location            51867 non-null  object \n",
      " 2   mintemp             51550 non-null  float64\n",
      " 3   maxtemp             51715 non-null  float64\n",
      " 4   rainfall            51129 non-null  float64\n",
      " 5   evaporation         24639 non-null  float64\n",
      " 6   sunshine            20620 non-null  float64\n",
      " 7   humidity9am         51117 non-null  float64\n",
      " 8   humidity3pm         49185 non-null  float64\n",
      " 9   pressure9am         46622 non-null  float64\n",
      " 10  pressure3pm         46611 non-null  float64\n",
      " 11  cloud9am            30629 non-null  float64\n",
      " 12  cloud3pm            28064 non-null  float64\n",
      " 13  temp9am             51550 non-null  float64\n",
      " 14  temp3pm             49586 non-null  float64\n",
      " 15  raintoday           51129 non-null  float64\n",
      " 16  winddir3pm_wind     49757 non-null  object \n",
      " 17  winddir9am_wind     48621 non-null  object \n",
      " 18  windgustdir_wind    48519 non-null  object \n",
      " 19  windgustspeed_wind  48539 non-null  float64\n",
      " 20  windspeed3pm_wind   50156 non-null  float64\n",
      " 21  windspeed9am_wind   51465 non-null  float64\n",
      "dtypes: float64(17), int64(1), object(4)\n",
      "memory usage: 9.1+ MB\n"
     ]
    }
   ],
   "source": [
    "X_train.info()"
   ]
  },
  {
   "cell_type": "markdown",
   "metadata": {},
   "source": [
    "# 3 - Tratando as variáveis categóricas com nulos"
   ]
  },
  {
   "cell_type": "code",
   "execution_count": 14,
   "metadata": {},
   "outputs": [
    {
     "data": {
      "text/plain": [
       "['location', 'winddir3pm_wind', 'winddir9am_wind', 'windgustdir_wind']"
      ]
     },
     "execution_count": 14,
     "metadata": {},
     "output_type": "execute_result"
    }
   ],
   "source": [
    "categorical=list(X.columns[X.dtypes == 'object'])\n",
    "categorical"
   ]
  },
  {
   "cell_type": "code",
   "execution_count": 15,
   "metadata": {
    "scrolled": true
   },
   "outputs": [
    {
     "data": {
      "text/plain": [
       "location               0\n",
       "winddir3pm_wind     3000\n",
       "winddir9am_wind     4629\n",
       "windgustdir_wind    4783\n",
       "dtype: int64"
      ]
     },
     "execution_count": 15,
     "metadata": {},
     "output_type": "execute_result"
    }
   ],
   "source": [
    "X[categorical].isnull().sum()"
   ]
  },
  {
   "cell_type": "code",
   "execution_count": 16,
   "metadata": {},
   "outputs": [
    {
     "data": {
      "text/plain": [
       "<matplotlib.axes._subplots.AxesSubplot at 0x7fb91a8f9c90>"
      ]
     },
     "execution_count": 16,
     "metadata": {},
     "output_type": "execute_result"
    },
    {
     "data": {
      "image/png": "[encoded data removed]",
      "text/plain": [
       "<Figure size 720x720 with 1 Axes>"
      ]
     },
     "metadata": {
      "needs_background": "light"
     },
     "output_type": "display_data"
    }
   ],
   "source": [
    "plt.figure(figsize=(10,10))\n",
    "sns.heatmap(X[categorical].isnull(),yticklabels=False,cbar=False,cmap='viridis')"
   ]
  },
  {
   "cell_type": "markdown",
   "metadata": {},
   "source": [
    "## Substituindo os valores nulos de cada coluna pelo valor que mais se repete nela"
   ]
  },
  {
   "cell_type": "code",
   "execution_count": 17,
   "metadata": {},
   "outputs": [
    {
     "name": "stderr",
     "output_type": "stream",
     "text": [
      "/home/titowoche30/anaconda3/lib/python3.7/site-packages/pandas/core/generic.py:6245: SettingWithCopyWarning:\n",
      "\n",
      "\n",
      "A value is trying to be set on a copy of a slice from a DataFrame\n",
      "\n",
      "See the caveats in the documentation: https://pandas.pydata.org/pandas-docs/stable/user_guide/indexing.html#returning-a-view-versus-a-copy\n",
      "\n"
     ]
    }
   ],
   "source": [
    "for data in [X_train, X_test]:\n",
    "    for col in categorical[1:]:\n",
    "        col_mode=X_train[col].mode()[0]\n",
    "        data[col].fillna(col_mode, inplace=True)\n",
    "        "
   ]
  },
  {
   "cell_type": "code",
   "execution_count": 18,
   "metadata": {},
   "outputs": [
    {
     "data": {
      "text/plain": [
       "<matplotlib.axes._subplots.AxesSubplot at 0x7fb8e9ea1a90>"
      ]
     },
     "execution_count": 18,
     "metadata": {},
     "output_type": "execute_result"
    },
    {
     "data": {
      "image/png": "[encoded data removed]",
      "text/plain": [
       "<Figure size 720x720 with 1 Axes>"
      ]
     },
     "metadata": {
      "needs_background": "light"
     },
     "output_type": "display_data"
    }
   ],
   "source": [
    "plt.figure(figsize=(10,10))\n",
    "sns.heatmap(X_train[categorical].isnull(),yticklabels=False,cbar=False,cmap='viridis')"
   ]
  },
  {
   "cell_type": "code",
   "execution_count": 131,
   "metadata": {},
   "outputs": [
    {
     "data": {
      "text/plain": [
       "<matplotlib.axes._subplots.AxesSubplot at 0x7ffb8d34fc90>"
      ]
     },
     "execution_count": 131,
     "metadata": {},
     "output_type": "execute_result"
    },
    {
     "data": {
      "image/png": "[encoded data removed]",
      "text/plain": [
       "<Figure size 720x720 with 1 Axes>"
      ]
     },
     "metadata": {
      "needs_background": "light"
     },
     "output_type": "display_data"
    }
   ],
   "source": [
    "plt.figure(figsize=(10,10))\n",
    "sns.heatmap(X_test[categorical].isnull(),yticklabels=False,cbar=False,cmap='viridis')"
   ]
  },
  {
   "cell_type": "markdown",
   "metadata": {},
   "source": [
    "# 4 - Tratando as variáveis numéricas com nulos"
   ]
  },
  {
   "cell_type": "code",
   "execution_count": 19,
   "metadata": {},
   "outputs": [
    {
     "data": {
      "text/plain": [
       "['mintemp',\n",
       " 'maxtemp',\n",
       " 'rainfall',\n",
       " 'evaporation',\n",
       " 'sunshine',\n",
       " 'humidity9am',\n",
       " 'humidity3pm',\n",
       " 'pressure9am',\n",
       " 'pressure3pm',\n",
       " 'cloud9am',\n",
       " 'cloud3pm',\n",
       " 'temp9am',\n",
       " 'temp3pm',\n",
       " 'raintoday',\n",
       " 'windgustspeed_wind',\n",
       " 'windspeed3pm_wind',\n",
       " 'windspeed9am_wind']"
      ]
     },
     "execution_count": 19,
     "metadata": {},
     "output_type": "execute_result"
    }
   ],
   "source": [
    "numerical=list(X.columns[X.dtypes == 'float64'])\n",
    "numerical"
   ]
  },
  {
   "cell_type": "code",
   "execution_count": 20,
   "metadata": {},
   "outputs": [
    {
     "data": {
      "text/plain": [
       "mintemp                 426\n",
       "maxtemp                 201\n",
       "rainfall               1032\n",
       "evaporation           39094\n",
       "sunshine              44812\n",
       "humidity9am            1018\n",
       "humidity3pm            3801\n",
       "pressure9am            7474\n",
       "pressure3pm            7492\n",
       "cloud9am              30309\n",
       "cloud3pm              34051\n",
       "temp9am                 434\n",
       "temp3pm                3274\n",
       "raintoday              1032\n",
       "windgustspeed_wind     4758\n",
       "windspeed3pm_wind      2454\n",
       "windspeed9am_wind       545\n",
       "dtype: int64"
      ]
     },
     "execution_count": 20,
     "metadata": {},
     "output_type": "execute_result"
    }
   ],
   "source": [
    "X[numerical].isnull().sum()"
   ]
  },
  {
   "cell_type": "code",
   "execution_count": 21,
   "metadata": {
    "scrolled": true
   },
   "outputs": [
    {
     "data": {
      "text/plain": [
       "<matplotlib.axes._subplots.AxesSubplot at 0x7fb8e8d31f10>"
      ]
     },
     "execution_count": 21,
     "metadata": {},
     "output_type": "execute_result"
    },
    {
     "data": {
      "image/png": "[encoded data removed]",
      "text/plain": [
       "<Figure size 720x720 with 1 Axes>"
      ]
     },
     "metadata": {
      "needs_background": "light"
     },
     "output_type": "display_data"
    }
   ],
   "source": [
    "plt.figure(figsize=(10,10))\n",
    "sns.heatmap(X[numerical].isnull(),yticklabels=False,cbar=False,cmap='viridis')"
   ]
  },
  {
   "cell_type": "code",
   "execution_count": 22,
   "metadata": {},
   "outputs": [
    {
     "data": {
      "text/html": [
       "<div>\n",
       "<style scoped>\n",
       "    .dataframe tbody tr th:only-of-type {\n",
       "        vertical-align: middle;\n",
       "    }\n",
       "\n",
       "    .dataframe tbody tr th {\n",
       "        vertical-align: top;\n",
       "    }\n",
       "\n",
       "    .dataframe thead th {\n",
       "        text-align: right;\n",
       "    }\n",
       "</style>\n",
       "<table border=\"1\" class=\"dataframe\">\n",
       "  <thead>\n",
       "    <tr style=\"text-align: right;\">\n",
       "      <th></th>\n",
       "      <th>mintemp</th>\n",
       "      <th>maxtemp</th>\n",
       "      <th>rainfall</th>\n",
       "      <th>evaporation</th>\n",
       "      <th>sunshine</th>\n",
       "      <th>humidity9am</th>\n",
       "      <th>humidity3pm</th>\n",
       "      <th>pressure9am</th>\n",
       "      <th>pressure3pm</th>\n",
       "      <th>cloud9am</th>\n",
       "      <th>cloud3pm</th>\n",
       "      <th>temp9am</th>\n",
       "      <th>temp3pm</th>\n",
       "      <th>raintoday</th>\n",
       "      <th>windgustspeed_wind</th>\n",
       "      <th>windspeed3pm_wind</th>\n",
       "      <th>windspeed9am_wind</th>\n",
       "    </tr>\n",
       "  </thead>\n",
       "  <tbody>\n",
       "    <tr>\n",
       "      <th>count</th>\n",
       "      <td>73670.000000</td>\n",
       "      <td>73895.000000</td>\n",
       "      <td>73064.000000</td>\n",
       "      <td>35002.000000</td>\n",
       "      <td>29284.000000</td>\n",
       "      <td>73078.000000</td>\n",
       "      <td>70295.000000</td>\n",
       "      <td>66622.000000</td>\n",
       "      <td>66604.000000</td>\n",
       "      <td>43787.000000</td>\n",
       "      <td>40045.000000</td>\n",
       "      <td>73662.000000</td>\n",
       "      <td>70822.000000</td>\n",
       "      <td>73064.000000</td>\n",
       "      <td>69338.000000</td>\n",
       "      <td>71642.000000</td>\n",
       "      <td>73551.000000</td>\n",
       "    </tr>\n",
       "    <tr>\n",
       "      <th>mean</th>\n",
       "      <td>12.692732</td>\n",
       "      <td>22.588616</td>\n",
       "      <td>3.717240</td>\n",
       "      <td>5.271756</td>\n",
       "      <td>5.962601</td>\n",
       "      <td>72.959865</td>\n",
       "      <td>58.369514</td>\n",
       "      <td>1016.386234</td>\n",
       "      <td>1014.088753</td>\n",
       "      <td>5.389157</td>\n",
       "      <td>5.547459</td>\n",
       "      <td>16.941160</td>\n",
       "      <td>20.804569</td>\n",
       "      <td>0.313944</td>\n",
       "      <td>41.567726</td>\n",
       "      <td>18.884021</td>\n",
       "      <td>14.350505</td>\n",
       "    </tr>\n",
       "    <tr>\n",
       "      <th>std</th>\n",
       "      <td>6.393281</td>\n",
       "      <td>7.196101</td>\n",
       "      <td>11.009296</td>\n",
       "      <td>4.385379</td>\n",
       "      <td>3.876544</td>\n",
       "      <td>18.139536</td>\n",
       "      <td>21.501696</td>\n",
       "      <td>7.357818</td>\n",
       "      <td>7.285182</td>\n",
       "      <td>2.700029</td>\n",
       "      <td>2.539268</td>\n",
       "      <td>6.486334</td>\n",
       "      <td>6.980523</td>\n",
       "      <td>0.464097</td>\n",
       "      <td>14.746394</td>\n",
       "      <td>9.096316</td>\n",
       "      <td>9.075004</td>\n",
       "    </tr>\n",
       "    <tr>\n",
       "      <th>min</th>\n",
       "      <td>-7.800000</td>\n",
       "      <td>-4.800000</td>\n",
       "      <td>0.000000</td>\n",
       "      <td>0.000000</td>\n",
       "      <td>0.000000</td>\n",
       "      <td>4.000000</td>\n",
       "      <td>1.000000</td>\n",
       "      <td>980.500000</td>\n",
       "      <td>977.100000</td>\n",
       "      <td>0.000000</td>\n",
       "      <td>0.000000</td>\n",
       "      <td>-7.200000</td>\n",
       "      <td>-5.400000</td>\n",
       "      <td>0.000000</td>\n",
       "      <td>7.000000</td>\n",
       "      <td>0.000000</td>\n",
       "      <td>0.000000</td>\n",
       "    </tr>\n",
       "    <tr>\n",
       "      <th>25%</th>\n",
       "      <td>8.100000</td>\n",
       "      <td>17.200000</td>\n",
       "      <td>0.000000</td>\n",
       "      <td>2.400000</td>\n",
       "      <td>2.600000</td>\n",
       "      <td>61.000000</td>\n",
       "      <td>43.000000</td>\n",
       "      <td>1011.600000</td>\n",
       "      <td>1009.100000</td>\n",
       "      <td>3.000000</td>\n",
       "      <td>3.000000</td>\n",
       "      <td>12.200000</td>\n",
       "      <td>15.600000</td>\n",
       "      <td>0.000000</td>\n",
       "      <td>31.000000</td>\n",
       "      <td>13.000000</td>\n",
       "      <td>7.000000</td>\n",
       "    </tr>\n",
       "    <tr>\n",
       "      <th>50%</th>\n",
       "      <td>12.300000</td>\n",
       "      <td>21.900000</td>\n",
       "      <td>0.000000</td>\n",
       "      <td>4.400000</td>\n",
       "      <td>6.100000</td>\n",
       "      <td>74.000000</td>\n",
       "      <td>59.000000</td>\n",
       "      <td>1016.400000</td>\n",
       "      <td>1014.100000</td>\n",
       "      <td>7.000000</td>\n",
       "      <td>7.000000</td>\n",
       "      <td>16.500000</td>\n",
       "      <td>20.200000</td>\n",
       "      <td>0.000000</td>\n",
       "      <td>39.000000</td>\n",
       "      <td>19.000000</td>\n",
       "      <td>13.000000</td>\n",
       "    </tr>\n",
       "    <tr>\n",
       "      <th>75%</th>\n",
       "      <td>17.300000</td>\n",
       "      <td>27.600000</td>\n",
       "      <td>2.400000</td>\n",
       "      <td>7.200000</td>\n",
       "      <td>9.200000</td>\n",
       "      <td>87.000000</td>\n",
       "      <td>74.000000</td>\n",
       "      <td>1021.300000</td>\n",
       "      <td>1019.000000</td>\n",
       "      <td>8.000000</td>\n",
       "      <td>8.000000</td>\n",
       "      <td>21.400000</td>\n",
       "      <td>25.500000</td>\n",
       "      <td>1.000000</td>\n",
       "      <td>50.000000</td>\n",
       "      <td>24.000000</td>\n",
       "      <td>20.000000</td>\n",
       "    </tr>\n",
       "    <tr>\n",
       "      <th>max</th>\n",
       "      <td>31.400000</td>\n",
       "      <td>47.300000</td>\n",
       "      <td>371.000000</td>\n",
       "      <td>145.000000</td>\n",
       "      <td>14.100000</td>\n",
       "      <td>100.000000</td>\n",
       "      <td>100.000000</td>\n",
       "      <td>1040.300000</td>\n",
       "      <td>1036.900000</td>\n",
       "      <td>8.000000</td>\n",
       "      <td>8.000000</td>\n",
       "      <td>37.600000</td>\n",
       "      <td>46.700000</td>\n",
       "      <td>1.000000</td>\n",
       "      <td>135.000000</td>\n",
       "      <td>87.000000</td>\n",
       "      <td>130.000000</td>\n",
       "    </tr>\n",
       "  </tbody>\n",
       "</table>\n",
       "</div>"
      ],
      "text/plain": [
       "            mintemp       maxtemp      rainfall   evaporation      sunshine  \\\n",
       "count  73670.000000  73895.000000  73064.000000  35002.000000  29284.000000   \n",
       "mean      12.692732     22.588616      3.717240      5.271756      5.962601   \n",
       "std        6.393281      7.196101     11.009296      4.385379      3.876544   \n",
       "min       -7.800000     -4.800000      0.000000      0.000000      0.000000   \n",
       "25%        8.100000     17.200000      0.000000      2.400000      2.600000   \n",
       "50%       12.300000     21.900000      0.000000      4.400000      6.100000   \n",
       "75%       17.300000     27.600000      2.400000      7.200000      9.200000   \n",
       "max       31.400000     47.300000    371.000000    145.000000     14.100000   \n",
       "\n",
       "        humidity9am   humidity3pm   pressure9am   pressure3pm      cloud9am  \\\n",
       "count  73078.000000  70295.000000  66622.000000  66604.000000  43787.000000   \n",
       "mean      72.959865     58.369514   1016.386234   1014.088753      5.389157   \n",
       "std       18.139536     21.501696      7.357818      7.285182      2.700029   \n",
       "min        4.000000      1.000000    980.500000    977.100000      0.000000   \n",
       "25%       61.000000     43.000000   1011.600000   1009.100000      3.000000   \n",
       "50%       74.000000     59.000000   1016.400000   1014.100000      7.000000   \n",
       "75%       87.000000     74.000000   1021.300000   1019.000000      8.000000   \n",
       "max      100.000000    100.000000   1040.300000   1036.900000      8.000000   \n",
       "\n",
       "           cloud3pm       temp9am       temp3pm     raintoday  \\\n",
       "count  40045.000000  73662.000000  70822.000000  73064.000000   \n",
       "mean       5.547459     16.941160     20.804569      0.313944   \n",
       "std        2.539268      6.486334      6.980523      0.464097   \n",
       "min        0.000000     -7.200000     -5.400000      0.000000   \n",
       "25%        3.000000     12.200000     15.600000      0.000000   \n",
       "50%        7.000000     16.500000     20.200000      0.000000   \n",
       "75%        8.000000     21.400000     25.500000      1.000000   \n",
       "max        8.000000     37.600000     46.700000      1.000000   \n",
       "\n",
       "       windgustspeed_wind  windspeed3pm_wind  windspeed9am_wind  \n",
       "count        69338.000000       71642.000000       73551.000000  \n",
       "mean            41.567726          18.884021          14.350505  \n",
       "std             14.746394           9.096316           9.075004  \n",
       "min              7.000000           0.000000           0.000000  \n",
       "25%             31.000000          13.000000           7.000000  \n",
       "50%             39.000000          19.000000          13.000000  \n",
       "75%             50.000000          24.000000          20.000000  \n",
       "max            135.000000          87.000000         130.000000  "
      ]
     },
     "execution_count": 22,
     "metadata": {},
     "output_type": "execute_result"
    }
   ],
   "source": [
    "X[numerical].describe()"
   ]
  },
  {
   "cell_type": "markdown",
   "metadata": {},
   "source": [
    "### Pela grande diferença entre o terceiro e o quarto quartil, podemos notar que as colunas rainfall, evaporation, windgustspeed, windspeed3pm e windspeed9am possuem outliers"
   ]
  },
  {
   "cell_type": "markdown",
   "metadata": {},
   "source": [
    "## Substituindo os valores nulos de cada coluna pela mediana por conta da existência de outliers"
   ]
  },
  {
   "cell_type": "code",
   "execution_count": 23,
   "metadata": {},
   "outputs": [
    {
     "name": "stderr",
     "output_type": "stream",
     "text": [
      "/home/titowoche30/anaconda3/lib/python3.7/site-packages/pandas/core/generic.py:6245: SettingWithCopyWarning:\n",
      "\n",
      "\n",
      "A value is trying to be set on a copy of a slice from a DataFrame\n",
      "\n",
      "See the caveats in the documentation: https://pandas.pydata.org/pandas-docs/stable/user_guide/indexing.html#returning-a-view-versus-a-copy\n",
      "\n"
     ]
    }
   ],
   "source": [
    "for data in [X_train, X_test]:\n",
    "    for col in numerical:\n",
    "        col_median=X_train[col].median()\n",
    "        data[col].fillna(col_median, inplace=True)"
   ]
  },
  {
   "cell_type": "code",
   "execution_count": 24,
   "metadata": {},
   "outputs": [
    {
     "data": {
      "text/plain": [
       "<matplotlib.axes._subplots.AxesSubplot at 0x7fb8e8d409d0>"
      ]
     },
     "execution_count": 24,
     "metadata": {},
     "output_type": "execute_result"
    },
    {
     "data": {
      "image/png": "[encoded data removed]",
      "text/plain": [
       "<Figure size 720x720 with 1 Axes>"
      ]
     },
     "metadata": {
      "needs_background": "light"
     },
     "output_type": "display_data"
    }
   ],
   "source": [
    "plt.figure(figsize=(10,10))\n",
    "sns.heatmap(X_train[numerical].isnull(),yticklabels=False,cbar=False,cmap='viridis')"
   ]
  },
  {
   "cell_type": "code",
   "execution_count": 25,
   "metadata": {},
   "outputs": [
    {
     "data": {
      "text/plain": [
       "<matplotlib.axes._subplots.AxesSubplot at 0x7fb8e8cc3710>"
      ]
     },
     "execution_count": 25,
     "metadata": {},
     "output_type": "execute_result"
    },
    {
     "data": {
      "image/png": "[encoded data removed]",
      "text/plain": [
       "<Figure size 720x720 with 1 Axes>"
      ]
     },
     "metadata": {
      "needs_background": "light"
     },
     "output_type": "display_data"
    }
   ],
   "source": [
    "plt.figure(figsize=(10,10))\n",
    "sns.heatmap(X_test[numerical].isnull(),yticklabels=False,cbar=False,cmap='viridis')"
   ]
  },
  {
   "cell_type": "markdown",
   "metadata": {},
   "source": [
    "# 5 - Tratando os outliers"
   ]
  },
  {
   "cell_type": "code",
   "execution_count": 26,
   "metadata": {},
   "outputs": [],
   "source": [
    "col_outliers = ['rainfall', 'evaporation', 'windgustspeed_wind', 'windspeed3pm_wind','windspeed9am_wind']"
   ]
  },
  {
   "cell_type": "markdown",
   "metadata": {},
   "source": [
    "### In this technique, we will do the flooring (e.g., the 10th percentile) for the lower values and capping (e.g., the 90th percentile) for the higher values."
   ]
  },
  {
   "cell_type": "code",
   "execution_count": 27,
   "metadata": {},
   "outputs": [],
   "source": [
    "for data in [X_train, X_test]:\n",
    "    for col in col_outliers:\n",
    "        bottom=rain_data[col].quantile(0.10)\n",
    "        top=rain_data[col].quantile(0.90)\n",
    "        \n",
    "        rain_data[col] = np.where(rain_data[col] < bottom, bottom, rain_data[col])\n",
    "        rain_data[col] = np.where(rain_data[col] > top, top, rain_data[col])\n",
    "\n",
    "    "
   ]
  },
  {
   "cell_type": "code",
   "execution_count": 28,
   "metadata": {},
   "outputs": [
    {
     "data": {
      "text/html": [
       "<div>\n",
       "<style scoped>\n",
       "    .dataframe tbody tr th:only-of-type {\n",
       "        vertical-align: middle;\n",
       "    }\n",
       "\n",
       "    .dataframe tbody tr th {\n",
       "        vertical-align: top;\n",
       "    }\n",
       "\n",
       "    .dataframe thead th {\n",
       "        text-align: right;\n",
       "    }\n",
       "</style>\n",
       "<table border=\"1\" class=\"dataframe\">\n",
       "  <thead>\n",
       "    <tr style=\"text-align: right;\">\n",
       "      <th></th>\n",
       "      <th>index</th>\n",
       "      <th>mintemp</th>\n",
       "      <th>maxtemp</th>\n",
       "      <th>rainfall</th>\n",
       "      <th>evaporation</th>\n",
       "      <th>sunshine</th>\n",
       "      <th>humidity9am</th>\n",
       "      <th>humidity3pm</th>\n",
       "      <th>pressure9am</th>\n",
       "      <th>pressure3pm</th>\n",
       "      <th>cloud9am</th>\n",
       "      <th>cloud3pm</th>\n",
       "      <th>temp9am</th>\n",
       "      <th>temp3pm</th>\n",
       "      <th>raintoday</th>\n",
       "      <th>raintomorrow</th>\n",
       "      <th>windgustspeed_wind</th>\n",
       "      <th>windspeed3pm_wind</th>\n",
       "      <th>windspeed9am_wind</th>\n",
       "    </tr>\n",
       "  </thead>\n",
       "  <tbody>\n",
       "    <tr>\n",
       "      <th>count</th>\n",
       "      <td>74096.000000</td>\n",
       "      <td>73670.000000</td>\n",
       "      <td>73895.000000</td>\n",
       "      <td>73064.000000</td>\n",
       "      <td>35002.000000</td>\n",
       "      <td>29284.000000</td>\n",
       "      <td>73078.000000</td>\n",
       "      <td>70295.000000</td>\n",
       "      <td>66622.000000</td>\n",
       "      <td>66604.000000</td>\n",
       "      <td>43787.000000</td>\n",
       "      <td>40045.000000</td>\n",
       "      <td>73662.000000</td>\n",
       "      <td>70822.000000</td>\n",
       "      <td>73064.000000</td>\n",
       "      <td>74096.000000</td>\n",
       "      <td>69338.000000</td>\n",
       "      <td>71642.000000</td>\n",
       "      <td>73551.000000</td>\n",
       "    </tr>\n",
       "    <tr>\n",
       "      <th>mean</th>\n",
       "      <td>111084.666136</td>\n",
       "      <td>12.692732</td>\n",
       "      <td>22.588616</td>\n",
       "      <td>2.058764</td>\n",
       "      <td>4.902431</td>\n",
       "      <td>5.962601</td>\n",
       "      <td>72.959865</td>\n",
       "      <td>58.369514</td>\n",
       "      <td>1016.386234</td>\n",
       "      <td>1014.088753</td>\n",
       "      <td>5.389157</td>\n",
       "      <td>5.547459</td>\n",
       "      <td>16.941160</td>\n",
       "      <td>20.804569</td>\n",
       "      <td>0.313944</td>\n",
       "      <td>0.500000</td>\n",
       "      <td>40.873734</td>\n",
       "      <td>18.665880</td>\n",
       "      <td>13.979076</td>\n",
       "    </tr>\n",
       "    <tr>\n",
       "      <th>std</th>\n",
       "      <td>45715.893044</td>\n",
       "      <td>6.393281</td>\n",
       "      <td>7.196101</td>\n",
       "      <td>3.550495</td>\n",
       "      <td>2.765094</td>\n",
       "      <td>3.876544</td>\n",
       "      <td>18.139536</td>\n",
       "      <td>21.501696</td>\n",
       "      <td>7.357818</td>\n",
       "      <td>7.285182</td>\n",
       "      <td>2.700029</td>\n",
       "      <td>2.539268</td>\n",
       "      <td>6.486334</td>\n",
       "      <td>6.980523</td>\n",
       "      <td>0.464097</td>\n",
       "      <td>0.500003</td>\n",
       "      <td>11.781241</td>\n",
       "      <td>7.297246</td>\n",
       "      <td>7.194122</td>\n",
       "    </tr>\n",
       "    <tr>\n",
       "      <th>min</th>\n",
       "      <td>0.000000</td>\n",
       "      <td>-7.800000</td>\n",
       "      <td>-4.800000</td>\n",
       "      <td>0.000000</td>\n",
       "      <td>1.400000</td>\n",
       "      <td>0.000000</td>\n",
       "      <td>4.000000</td>\n",
       "      <td>1.000000</td>\n",
       "      <td>980.500000</td>\n",
       "      <td>977.100000</td>\n",
       "      <td>0.000000</td>\n",
       "      <td>0.000000</td>\n",
       "      <td>-7.200000</td>\n",
       "      <td>-5.400000</td>\n",
       "      <td>0.000000</td>\n",
       "      <td>0.000000</td>\n",
       "      <td>24.000000</td>\n",
       "      <td>9.000000</td>\n",
       "      <td>4.000000</td>\n",
       "    </tr>\n",
       "    <tr>\n",
       "      <th>25%</th>\n",
       "      <td>80213.750000</td>\n",
       "      <td>8.100000</td>\n",
       "      <td>17.200000</td>\n",
       "      <td>0.000000</td>\n",
       "      <td>2.400000</td>\n",
       "      <td>2.600000</td>\n",
       "      <td>61.000000</td>\n",
       "      <td>43.000000</td>\n",
       "      <td>1011.600000</td>\n",
       "      <td>1009.100000</td>\n",
       "      <td>3.000000</td>\n",
       "      <td>3.000000</td>\n",
       "      <td>12.200000</td>\n",
       "      <td>15.600000</td>\n",
       "      <td>0.000000</td>\n",
       "      <td>0.000000</td>\n",
       "      <td>31.000000</td>\n",
       "      <td>13.000000</td>\n",
       "      <td>7.000000</td>\n",
       "    </tr>\n",
       "    <tr>\n",
       "      <th>50%</th>\n",
       "      <td>127337.500000</td>\n",
       "      <td>12.300000</td>\n",
       "      <td>21.900000</td>\n",
       "      <td>0.000000</td>\n",
       "      <td>4.400000</td>\n",
       "      <td>6.100000</td>\n",
       "      <td>74.000000</td>\n",
       "      <td>59.000000</td>\n",
       "      <td>1016.400000</td>\n",
       "      <td>1014.100000</td>\n",
       "      <td>7.000000</td>\n",
       "      <td>7.000000</td>\n",
       "      <td>16.500000</td>\n",
       "      <td>20.200000</td>\n",
       "      <td>0.000000</td>\n",
       "      <td>0.500000</td>\n",
       "      <td>39.000000</td>\n",
       "      <td>19.000000</td>\n",
       "      <td>13.000000</td>\n",
       "    </tr>\n",
       "    <tr>\n",
       "      <th>75%</th>\n",
       "      <td>145861.250000</td>\n",
       "      <td>17.300000</td>\n",
       "      <td>27.600000</td>\n",
       "      <td>2.400000</td>\n",
       "      <td>7.200000</td>\n",
       "      <td>9.200000</td>\n",
       "      <td>87.000000</td>\n",
       "      <td>74.000000</td>\n",
       "      <td>1021.300000</td>\n",
       "      <td>1019.000000</td>\n",
       "      <td>8.000000</td>\n",
       "      <td>8.000000</td>\n",
       "      <td>21.400000</td>\n",
       "      <td>25.500000</td>\n",
       "      <td>1.000000</td>\n",
       "      <td>1.000000</td>\n",
       "      <td>50.000000</td>\n",
       "      <td>24.000000</td>\n",
       "      <td>20.000000</td>\n",
       "    </tr>\n",
       "    <tr>\n",
       "      <th>max</th>\n",
       "      <td>164385.000000</td>\n",
       "      <td>31.400000</td>\n",
       "      <td>47.300000</td>\n",
       "      <td>10.600000</td>\n",
       "      <td>9.800000</td>\n",
       "      <td>14.100000</td>\n",
       "      <td>100.000000</td>\n",
       "      <td>100.000000</td>\n",
       "      <td>1040.300000</td>\n",
       "      <td>1036.900000</td>\n",
       "      <td>8.000000</td>\n",
       "      <td>8.000000</td>\n",
       "      <td>37.600000</td>\n",
       "      <td>46.700000</td>\n",
       "      <td>1.000000</td>\n",
       "      <td>1.000000</td>\n",
       "      <td>61.000000</td>\n",
       "      <td>31.000000</td>\n",
       "      <td>26.000000</td>\n",
       "    </tr>\n",
       "  </tbody>\n",
       "</table>\n",
       "</div>"
      ],
      "text/plain": [
       "               index       mintemp       maxtemp      rainfall   evaporation  \\\n",
       "count   74096.000000  73670.000000  73895.000000  73064.000000  35002.000000   \n",
       "mean   111084.666136     12.692732     22.588616      2.058764      4.902431   \n",
       "std     45715.893044      6.393281      7.196101      3.550495      2.765094   \n",
       "min         0.000000     -7.800000     -4.800000      0.000000      1.400000   \n",
       "25%     80213.750000      8.100000     17.200000      0.000000      2.400000   \n",
       "50%    127337.500000     12.300000     21.900000      0.000000      4.400000   \n",
       "75%    145861.250000     17.300000     27.600000      2.400000      7.200000   \n",
       "max    164385.000000     31.400000     47.300000     10.600000      9.800000   \n",
       "\n",
       "           sunshine   humidity9am   humidity3pm   pressure9am   pressure3pm  \\\n",
       "count  29284.000000  73078.000000  70295.000000  66622.000000  66604.000000   \n",
       "mean       5.962601     72.959865     58.369514   1016.386234   1014.088753   \n",
       "std        3.876544     18.139536     21.501696      7.357818      7.285182   \n",
       "min        0.000000      4.000000      1.000000    980.500000    977.100000   \n",
       "25%        2.600000     61.000000     43.000000   1011.600000   1009.100000   \n",
       "50%        6.100000     74.000000     59.000000   1016.400000   1014.100000   \n",
       "75%        9.200000     87.000000     74.000000   1021.300000   1019.000000   \n",
       "max       14.100000    100.000000    100.000000   1040.300000   1036.900000   \n",
       "\n",
       "           cloud9am      cloud3pm       temp9am       temp3pm     raintoday  \\\n",
       "count  43787.000000  40045.000000  73662.000000  70822.000000  73064.000000   \n",
       "mean       5.389157      5.547459     16.941160     20.804569      0.313944   \n",
       "std        2.700029      2.539268      6.486334      6.980523      0.464097   \n",
       "min        0.000000      0.000000     -7.200000     -5.400000      0.000000   \n",
       "25%        3.000000      3.000000     12.200000     15.600000      0.000000   \n",
       "50%        7.000000      7.000000     16.500000     20.200000      0.000000   \n",
       "75%        8.000000      8.000000     21.400000     25.500000      1.000000   \n",
       "max        8.000000      8.000000     37.600000     46.700000      1.000000   \n",
       "\n",
       "       raintomorrow  windgustspeed_wind  windspeed3pm_wind  windspeed9am_wind  \n",
       "count  74096.000000        69338.000000       71642.000000       73551.000000  \n",
       "mean       0.500000           40.873734          18.665880          13.979076  \n",
       "std        0.500003           11.781241           7.297246           7.194122  \n",
       "min        0.000000           24.000000           9.000000           4.000000  \n",
       "25%        0.000000           31.000000          13.000000           7.000000  \n",
       "50%        0.500000           39.000000          19.000000          13.000000  \n",
       "75%        1.000000           50.000000          24.000000          20.000000  \n",
       "max        1.000000           61.000000          31.000000          26.000000  "
      ]
     },
     "execution_count": 28,
     "metadata": {},
     "output_type": "execute_result"
    }
   ],
   "source": [
    "rain_data.describe()"
   ]
  },
  {
   "cell_type": "markdown",
   "metadata": {},
   "source": [
    "# 6 - Normalizando os dados numéricos"
   ]
  },
  {
   "cell_type": "code",
   "execution_count": 30,
   "metadata": {
    "scrolled": true
   },
   "outputs": [
    {
     "data": {
      "text/plain": [
       "['mintemp',\n",
       " 'maxtemp',\n",
       " 'rainfall',\n",
       " 'evaporation',\n",
       " 'sunshine',\n",
       " 'humidity9am',\n",
       " 'humidity3pm',\n",
       " 'pressure9am',\n",
       " 'pressure3pm',\n",
       " 'cloud9am',\n",
       " 'cloud3pm',\n",
       " 'temp9am',\n",
       " 'temp3pm',\n",
       " 'raintoday',\n",
       " 'windgustspeed_wind',\n",
       " 'windspeed3pm_wind',\n",
       " 'windspeed9am_wind']"
      ]
     },
     "execution_count": 30,
     "metadata": {},
     "output_type": "execute_result"
    }
   ],
   "source": [
    "numerical"
   ]
  },
  {
   "cell_type": "code",
   "execution_count": 31,
   "metadata": {},
   "outputs": [],
   "source": [
    "X_train_num_cp = X_train[numerical].copy()\n",
    "X_test_num_cp = X_test[numerical].copy()"
   ]
  },
  {
   "cell_type": "code",
   "execution_count": 32,
   "metadata": {},
   "outputs": [
    {
     "data": {
      "text/plain": [
       "(51867, 17)"
      ]
     },
     "execution_count": 32,
     "metadata": {},
     "output_type": "execute_result"
    }
   ],
   "source": [
    "X_train_num_cp.shape"
   ]
  },
  {
   "cell_type": "code",
   "execution_count": 33,
   "metadata": {},
   "outputs": [
    {
     "data": {
      "text/plain": [
       "Index(['mintemp', 'maxtemp', 'rainfall', 'evaporation', 'sunshine',\n",
       "       'humidity9am', 'humidity3pm', 'pressure9am', 'pressure3pm', 'cloud9am',\n",
       "       'cloud3pm', 'temp9am', 'temp3pm', 'raintoday', 'windgustspeed_wind',\n",
       "       'windspeed3pm_wind', 'windspeed9am_wind'],\n",
       "      dtype='object')"
      ]
     },
     "execution_count": 33,
     "metadata": {},
     "output_type": "execute_result"
    }
   ],
   "source": [
    "X_test_num_cp.columns"
   ]
  },
  {
   "cell_type": "code",
   "execution_count": 34,
   "metadata": {},
   "outputs": [
    {
     "data": {
      "text/plain": [
       "['location', 'winddir3pm_wind', 'winddir9am_wind', 'windgustdir_wind']"
      ]
     },
     "execution_count": 34,
     "metadata": {},
     "output_type": "execute_result"
    }
   ],
   "source": [
    "categorical"
   ]
  },
  {
   "cell_type": "markdown",
   "metadata": {},
   "source": [
    "## Usarei o min-max scalar"
   ]
  },
  {
   "cell_type": "code",
   "execution_count": 35,
   "metadata": {},
   "outputs": [],
   "source": [
    "scaler=MinMaxScaler()\n",
    "\n",
    "normalized_data_train = scaler.fit_transform(X_train_num_cp)\n",
    "X_train_num_cp.at[:] = normalized_data_train[:]\n",
    "\n",
    "normalized_data_test = scaler.transform(X_test_num_cp)\n",
    "X_test_num_cp.at[:] = normalized_data_test[:]\n",
    "\n"
   ]
  },
  {
   "cell_type": "code",
   "execution_count": 36,
   "metadata": {},
   "outputs": [
    {
     "data": {
      "text/html": [
       "<div>\n",
       "<style scoped>\n",
       "    .dataframe tbody tr th:only-of-type {\n",
       "        vertical-align: middle;\n",
       "    }\n",
       "\n",
       "    .dataframe tbody tr th {\n",
       "        vertical-align: top;\n",
       "    }\n",
       "\n",
       "    .dataframe thead th {\n",
       "        text-align: right;\n",
       "    }\n",
       "</style>\n",
       "<table border=\"1\" class=\"dataframe\">\n",
       "  <thead>\n",
       "    <tr style=\"text-align: right;\">\n",
       "      <th></th>\n",
       "      <th>mintemp</th>\n",
       "      <th>maxtemp</th>\n",
       "      <th>rainfall</th>\n",
       "      <th>evaporation</th>\n",
       "      <th>sunshine</th>\n",
       "      <th>humidity9am</th>\n",
       "      <th>humidity3pm</th>\n",
       "      <th>pressure9am</th>\n",
       "      <th>pressure3pm</th>\n",
       "      <th>cloud9am</th>\n",
       "      <th>cloud3pm</th>\n",
       "      <th>temp9am</th>\n",
       "      <th>temp3pm</th>\n",
       "      <th>raintoday</th>\n",
       "      <th>windgustspeed_wind</th>\n",
       "      <th>windspeed3pm_wind</th>\n",
       "      <th>windspeed9am_wind</th>\n",
       "    </tr>\n",
       "  </thead>\n",
       "  <tbody>\n",
       "    <tr>\n",
       "      <th>count</th>\n",
       "      <td>51867.000000</td>\n",
       "      <td>51867.000000</td>\n",
       "      <td>51867.000000</td>\n",
       "      <td>51867.000000</td>\n",
       "      <td>51867.000000</td>\n",
       "      <td>51867.000000</td>\n",
       "      <td>51867.000000</td>\n",
       "      <td>51867.000000</td>\n",
       "      <td>51867.000000</td>\n",
       "      <td>51867.000000</td>\n",
       "      <td>51867.000000</td>\n",
       "      <td>51867.000000</td>\n",
       "      <td>51867.000000</td>\n",
       "      <td>51867.000000</td>\n",
       "      <td>51867.000000</td>\n",
       "      <td>51867.000000</td>\n",
       "      <td>51867.000000</td>\n",
       "    </tr>\n",
       "    <tr>\n",
       "      <th>mean</th>\n",
       "      <td>0.518933</td>\n",
       "      <td>0.528669</td>\n",
       "      <td>0.009976</td>\n",
       "      <td>0.033153</td>\n",
       "      <td>0.428552</td>\n",
       "      <td>0.718547</td>\n",
       "      <td>0.579651</td>\n",
       "      <td>0.600076</td>\n",
       "      <td>0.622561</td>\n",
       "      <td>0.755921</td>\n",
       "      <td>0.776062</td>\n",
       "      <td>0.538746</td>\n",
       "      <td>0.517298</td>\n",
       "      <td>0.309079</td>\n",
       "      <td>0.269085</td>\n",
       "      <td>0.217382</td>\n",
       "      <td>0.165127</td>\n",
       "    </tr>\n",
       "    <tr>\n",
       "      <th>std</th>\n",
       "      <td>0.163727</td>\n",
       "      <td>0.138535</td>\n",
       "      <td>0.030221</td>\n",
       "      <td>0.021273</td>\n",
       "      <td>0.173422</td>\n",
       "      <td>0.187842</td>\n",
       "      <td>0.211851</td>\n",
       "      <td>0.116530</td>\n",
       "      <td>0.116108</td>\n",
       "      <td>0.277809</td>\n",
       "      <td>0.250732</td>\n",
       "      <td>0.144193</td>\n",
       "      <td>0.134720</td>\n",
       "      <td>0.462118</td>\n",
       "      <td>0.112242</td>\n",
       "      <td>0.103273</td>\n",
       "      <td>0.103842</td>\n",
       "    </tr>\n",
       "    <tr>\n",
       "      <th>min</th>\n",
       "      <td>0.000000</td>\n",
       "      <td>0.000000</td>\n",
       "      <td>0.000000</td>\n",
       "      <td>0.000000</td>\n",
       "      <td>0.000000</td>\n",
       "      <td>0.000000</td>\n",
       "      <td>0.000000</td>\n",
       "      <td>0.000000</td>\n",
       "      <td>0.000000</td>\n",
       "      <td>0.000000</td>\n",
       "      <td>0.000000</td>\n",
       "      <td>0.000000</td>\n",
       "      <td>0.000000</td>\n",
       "      <td>0.000000</td>\n",
       "      <td>0.000000</td>\n",
       "      <td>0.000000</td>\n",
       "      <td>0.000000</td>\n",
       "    </tr>\n",
       "    <tr>\n",
       "      <th>25%</th>\n",
       "      <td>0.401028</td>\n",
       "      <td>0.424710</td>\n",
       "      <td>0.000000</td>\n",
       "      <td>0.030345</td>\n",
       "      <td>0.432624</td>\n",
       "      <td>0.604167</td>\n",
       "      <td>0.434343</td>\n",
       "      <td>0.530100</td>\n",
       "      <td>0.550505</td>\n",
       "      <td>0.750000</td>\n",
       "      <td>0.750000</td>\n",
       "      <td>0.433036</td>\n",
       "      <td>0.419960</td>\n",
       "      <td>0.000000</td>\n",
       "      <td>0.187500</td>\n",
       "      <td>0.149425</td>\n",
       "      <td>0.080460</td>\n",
       "    </tr>\n",
       "    <tr>\n",
       "      <th>50%</th>\n",
       "      <td>0.508997</td>\n",
       "      <td>0.515444</td>\n",
       "      <td>0.000000</td>\n",
       "      <td>0.030345</td>\n",
       "      <td>0.432624</td>\n",
       "      <td>0.739583</td>\n",
       "      <td>0.585859</td>\n",
       "      <td>0.600334</td>\n",
       "      <td>0.622896</td>\n",
       "      <td>0.875000</td>\n",
       "      <td>0.875000</td>\n",
       "      <td>0.529018</td>\n",
       "      <td>0.505929</td>\n",
       "      <td>0.000000</td>\n",
       "      <td>0.250000</td>\n",
       "      <td>0.218391</td>\n",
       "      <td>0.149425</td>\n",
       "    </tr>\n",
       "    <tr>\n",
       "      <th>75%</th>\n",
       "      <td>0.637532</td>\n",
       "      <td>0.623552</td>\n",
       "      <td>0.005930</td>\n",
       "      <td>0.030345</td>\n",
       "      <td>0.432624</td>\n",
       "      <td>0.864583</td>\n",
       "      <td>0.727273</td>\n",
       "      <td>0.672241</td>\n",
       "      <td>0.693603</td>\n",
       "      <td>0.875000</td>\n",
       "      <td>0.875000</td>\n",
       "      <td>0.638393</td>\n",
       "      <td>0.604743</td>\n",
       "      <td>1.000000</td>\n",
       "      <td>0.335938</td>\n",
       "      <td>0.275862</td>\n",
       "      <td>0.229885</td>\n",
       "    </tr>\n",
       "    <tr>\n",
       "      <th>max</th>\n",
       "      <td>1.000000</td>\n",
       "      <td>1.000000</td>\n",
       "      <td>1.000000</td>\n",
       "      <td>1.000000</td>\n",
       "      <td>1.000000</td>\n",
       "      <td>1.000000</td>\n",
       "      <td>1.000000</td>\n",
       "      <td>1.000000</td>\n",
       "      <td>1.000000</td>\n",
       "      <td>1.000000</td>\n",
       "      <td>1.000000</td>\n",
       "      <td>1.000000</td>\n",
       "      <td>1.000000</td>\n",
       "      <td>1.000000</td>\n",
       "      <td>1.000000</td>\n",
       "      <td>1.000000</td>\n",
       "      <td>1.000000</td>\n",
       "    </tr>\n",
       "  </tbody>\n",
       "</table>\n",
       "</div>"
      ],
      "text/plain": [
       "            mintemp       maxtemp      rainfall   evaporation      sunshine  \\\n",
       "count  51867.000000  51867.000000  51867.000000  51867.000000  51867.000000   \n",
       "mean       0.518933      0.528669      0.009976      0.033153      0.428552   \n",
       "std        0.163727      0.138535      0.030221      0.021273      0.173422   \n",
       "min        0.000000      0.000000      0.000000      0.000000      0.000000   \n",
       "25%        0.401028      0.424710      0.000000      0.030345      0.432624   \n",
       "50%        0.508997      0.515444      0.000000      0.030345      0.432624   \n",
       "75%        0.637532      0.623552      0.005930      0.030345      0.432624   \n",
       "max        1.000000      1.000000      1.000000      1.000000      1.000000   \n",
       "\n",
       "        humidity9am   humidity3pm   pressure9am   pressure3pm      cloud9am  \\\n",
       "count  51867.000000  51867.000000  51867.000000  51867.000000  51867.000000   \n",
       "mean       0.718547      0.579651      0.600076      0.622561      0.755921   \n",
       "std        0.187842      0.211851      0.116530      0.116108      0.277809   \n",
       "min        0.000000      0.000000      0.000000      0.000000      0.000000   \n",
       "25%        0.604167      0.434343      0.530100      0.550505      0.750000   \n",
       "50%        0.739583      0.585859      0.600334      0.622896      0.875000   \n",
       "75%        0.864583      0.727273      0.672241      0.693603      0.875000   \n",
       "max        1.000000      1.000000      1.000000      1.000000      1.000000   \n",
       "\n",
       "           cloud3pm       temp9am       temp3pm     raintoday  \\\n",
       "count  51867.000000  51867.000000  51867.000000  51867.000000   \n",
       "mean       0.776062      0.538746      0.517298      0.309079   \n",
       "std        0.250732      0.144193      0.134720      0.462118   \n",
       "min        0.000000      0.000000      0.000000      0.000000   \n",
       "25%        0.750000      0.433036      0.419960      0.000000   \n",
       "50%        0.875000      0.529018      0.505929      0.000000   \n",
       "75%        0.875000      0.638393      0.604743      1.000000   \n",
       "max        1.000000      1.000000      1.000000      1.000000   \n",
       "\n",
       "       windgustspeed_wind  windspeed3pm_wind  windspeed9am_wind  \n",
       "count        51867.000000       51867.000000       51867.000000  \n",
       "mean             0.269085           0.217382           0.165127  \n",
       "std              0.112242           0.103273           0.103842  \n",
       "min              0.000000           0.000000           0.000000  \n",
       "25%              0.187500           0.149425           0.080460  \n",
       "50%              0.250000           0.218391           0.149425  \n",
       "75%              0.335938           0.275862           0.229885  \n",
       "max              1.000000           1.000000           1.000000  "
      ]
     },
     "execution_count": 36,
     "metadata": {},
     "output_type": "execute_result"
    }
   ],
   "source": [
    "X_train_num_cp.describe()"
   ]
  },
  {
   "cell_type": "code",
   "execution_count": 37,
   "metadata": {
    "scrolled": false
   },
   "outputs": [
    {
     "data": {
      "text/html": [
       "<div>\n",
       "<style scoped>\n",
       "    .dataframe tbody tr th:only-of-type {\n",
       "        vertical-align: middle;\n",
       "    }\n",
       "\n",
       "    .dataframe tbody tr th {\n",
       "        vertical-align: top;\n",
       "    }\n",
       "\n",
       "    .dataframe thead th {\n",
       "        text-align: right;\n",
       "    }\n",
       "</style>\n",
       "<table border=\"1\" class=\"dataframe\">\n",
       "  <thead>\n",
       "    <tr style=\"text-align: right;\">\n",
       "      <th></th>\n",
       "      <th>mintemp</th>\n",
       "      <th>maxtemp</th>\n",
       "      <th>rainfall</th>\n",
       "      <th>evaporation</th>\n",
       "      <th>sunshine</th>\n",
       "      <th>humidity9am</th>\n",
       "      <th>humidity3pm</th>\n",
       "      <th>pressure9am</th>\n",
       "      <th>pressure3pm</th>\n",
       "      <th>cloud9am</th>\n",
       "      <th>cloud3pm</th>\n",
       "      <th>temp9am</th>\n",
       "      <th>temp3pm</th>\n",
       "      <th>raintoday</th>\n",
       "      <th>windgustspeed_wind</th>\n",
       "      <th>windspeed3pm_wind</th>\n",
       "      <th>windspeed9am_wind</th>\n",
       "    </tr>\n",
       "  </thead>\n",
       "  <tbody>\n",
       "    <tr>\n",
       "      <th>count</th>\n",
       "      <td>22229.000000</td>\n",
       "      <td>22229.000000</td>\n",
       "      <td>22229.000000</td>\n",
       "      <td>22229.000000</td>\n",
       "      <td>22229.000000</td>\n",
       "      <td>22229.000000</td>\n",
       "      <td>22229.000000</td>\n",
       "      <td>22229.000000</td>\n",
       "      <td>22229.000000</td>\n",
       "      <td>22229.000000</td>\n",
       "      <td>22229.000000</td>\n",
       "      <td>22229.000000</td>\n",
       "      <td>22229.000000</td>\n",
       "      <td>22229.000000</td>\n",
       "      <td>22229.000000</td>\n",
       "      <td>22229.000000</td>\n",
       "      <td>22229.000000</td>\n",
       "    </tr>\n",
       "    <tr>\n",
       "      <th>mean</th>\n",
       "      <td>0.519274</td>\n",
       "      <td>0.528777</td>\n",
       "      <td>0.009657</td>\n",
       "      <td>0.033259</td>\n",
       "      <td>0.429288</td>\n",
       "      <td>0.718803</td>\n",
       "      <td>0.580203</td>\n",
       "      <td>0.600247</td>\n",
       "      <td>0.623109</td>\n",
       "      <td>0.756214</td>\n",
       "      <td>0.778763</td>\n",
       "      <td>0.538951</td>\n",
       "      <td>0.517468</td>\n",
       "      <td>0.310720</td>\n",
       "      <td>0.268043</td>\n",
       "      <td>0.216449</td>\n",
       "      <td>0.164150</td>\n",
       "    </tr>\n",
       "    <tr>\n",
       "      <th>std</th>\n",
       "      <td>0.164240</td>\n",
       "      <td>0.139201</td>\n",
       "      <td>0.027711</td>\n",
       "      <td>0.020357</td>\n",
       "      <td>0.171690</td>\n",
       "      <td>0.187264</td>\n",
       "      <td>0.210848</td>\n",
       "      <td>0.117000</td>\n",
       "      <td>0.116682</td>\n",
       "      <td>0.277434</td>\n",
       "      <td>0.249192</td>\n",
       "      <td>0.144757</td>\n",
       "      <td>0.135305</td>\n",
       "      <td>0.462799</td>\n",
       "      <td>0.109933</td>\n",
       "      <td>0.101719</td>\n",
       "      <td>0.104149</td>\n",
       "    </tr>\n",
       "    <tr>\n",
       "      <th>min</th>\n",
       "      <td>-0.007712</td>\n",
       "      <td>0.000000</td>\n",
       "      <td>0.000000</td>\n",
       "      <td>0.000000</td>\n",
       "      <td>0.000000</td>\n",
       "      <td>0.000000</td>\n",
       "      <td>0.020202</td>\n",
       "      <td>0.040134</td>\n",
       "      <td>0.018519</td>\n",
       "      <td>0.000000</td>\n",
       "      <td>0.000000</td>\n",
       "      <td>0.000000</td>\n",
       "      <td>0.000000</td>\n",
       "      <td>0.000000</td>\n",
       "      <td>0.000000</td>\n",
       "      <td>0.000000</td>\n",
       "      <td>0.000000</td>\n",
       "    </tr>\n",
       "    <tr>\n",
       "      <th>25%</th>\n",
       "      <td>0.401028</td>\n",
       "      <td>0.424710</td>\n",
       "      <td>0.000000</td>\n",
       "      <td>0.030345</td>\n",
       "      <td>0.432624</td>\n",
       "      <td>0.604167</td>\n",
       "      <td>0.444444</td>\n",
       "      <td>0.531773</td>\n",
       "      <td>0.548822</td>\n",
       "      <td>0.750000</td>\n",
       "      <td>0.875000</td>\n",
       "      <td>0.433036</td>\n",
       "      <td>0.420949</td>\n",
       "      <td>0.000000</td>\n",
       "      <td>0.187500</td>\n",
       "      <td>0.149425</td>\n",
       "      <td>0.080460</td>\n",
       "    </tr>\n",
       "    <tr>\n",
       "      <th>50%</th>\n",
       "      <td>0.508997</td>\n",
       "      <td>0.515444</td>\n",
       "      <td>0.000000</td>\n",
       "      <td>0.030345</td>\n",
       "      <td>0.432624</td>\n",
       "      <td>0.739583</td>\n",
       "      <td>0.585859</td>\n",
       "      <td>0.600334</td>\n",
       "      <td>0.622896</td>\n",
       "      <td>0.875000</td>\n",
       "      <td>0.875000</td>\n",
       "      <td>0.529018</td>\n",
       "      <td>0.505929</td>\n",
       "      <td>0.000000</td>\n",
       "      <td>0.250000</td>\n",
       "      <td>0.218391</td>\n",
       "      <td>0.149425</td>\n",
       "    </tr>\n",
       "    <tr>\n",
       "      <th>75%</th>\n",
       "      <td>0.637532</td>\n",
       "      <td>0.625483</td>\n",
       "      <td>0.006469</td>\n",
       "      <td>0.030345</td>\n",
       "      <td>0.432624</td>\n",
       "      <td>0.864583</td>\n",
       "      <td>0.727273</td>\n",
       "      <td>0.673913</td>\n",
       "      <td>0.696970</td>\n",
       "      <td>0.875000</td>\n",
       "      <td>0.875000</td>\n",
       "      <td>0.638393</td>\n",
       "      <td>0.606719</td>\n",
       "      <td>1.000000</td>\n",
       "      <td>0.335938</td>\n",
       "      <td>0.275862</td>\n",
       "      <td>0.229885</td>\n",
       "    </tr>\n",
       "    <tr>\n",
       "      <th>max</th>\n",
       "      <td>1.000000</td>\n",
       "      <td>1.005792</td>\n",
       "      <td>0.583019</td>\n",
       "      <td>0.515862</td>\n",
       "      <td>0.985816</td>\n",
       "      <td>1.000000</td>\n",
       "      <td>1.000000</td>\n",
       "      <td>1.000000</td>\n",
       "      <td>1.006734</td>\n",
       "      <td>1.000000</td>\n",
       "      <td>1.000000</td>\n",
       "      <td>0.997768</td>\n",
       "      <td>1.029644</td>\n",
       "      <td>1.000000</td>\n",
       "      <td>0.843750</td>\n",
       "      <td>0.747126</td>\n",
       "      <td>1.494253</td>\n",
       "    </tr>\n",
       "  </tbody>\n",
       "</table>\n",
       "</div>"
      ],
      "text/plain": [
       "            mintemp       maxtemp      rainfall   evaporation      sunshine  \\\n",
       "count  22229.000000  22229.000000  22229.000000  22229.000000  22229.000000   \n",
       "mean       0.519274      0.528777      0.009657      0.033259      0.429288   \n",
       "std        0.164240      0.139201      0.027711      0.020357      0.171690   \n",
       "min       -0.007712      0.000000      0.000000      0.000000      0.000000   \n",
       "25%        0.401028      0.424710      0.000000      0.030345      0.432624   \n",
       "50%        0.508997      0.515444      0.000000      0.030345      0.432624   \n",
       "75%        0.637532      0.625483      0.006469      0.030345      0.432624   \n",
       "max        1.000000      1.005792      0.583019      0.515862      0.985816   \n",
       "\n",
       "        humidity9am   humidity3pm   pressure9am   pressure3pm      cloud9am  \\\n",
       "count  22229.000000  22229.000000  22229.000000  22229.000000  22229.000000   \n",
       "mean       0.718803      0.580203      0.600247      0.623109      0.756214   \n",
       "std        0.187264      0.210848      0.117000      0.116682      0.277434   \n",
       "min        0.000000      0.020202      0.040134      0.018519      0.000000   \n",
       "25%        0.604167      0.444444      0.531773      0.548822      0.750000   \n",
       "50%        0.739583      0.585859      0.600334      0.622896      0.875000   \n",
       "75%        0.864583      0.727273      0.673913      0.696970      0.875000   \n",
       "max        1.000000      1.000000      1.000000      1.006734      1.000000   \n",
       "\n",
       "           cloud3pm       temp9am       temp3pm     raintoday  \\\n",
       "count  22229.000000  22229.000000  22229.000000  22229.000000   \n",
       "mean       0.778763      0.538951      0.517468      0.310720   \n",
       "std        0.249192      0.144757      0.135305      0.462799   \n",
       "min        0.000000      0.000000      0.000000      0.000000   \n",
       "25%        0.875000      0.433036      0.420949      0.000000   \n",
       "50%        0.875000      0.529018      0.505929      0.000000   \n",
       "75%        0.875000      0.638393      0.606719      1.000000   \n",
       "max        1.000000      0.997768      1.029644      1.000000   \n",
       "\n",
       "       windgustspeed_wind  windspeed3pm_wind  windspeed9am_wind  \n",
       "count        22229.000000       22229.000000       22229.000000  \n",
       "mean             0.268043           0.216449           0.164150  \n",
       "std              0.109933           0.101719           0.104149  \n",
       "min              0.000000           0.000000           0.000000  \n",
       "25%              0.187500           0.149425           0.080460  \n",
       "50%              0.250000           0.218391           0.149425  \n",
       "75%              0.335938           0.275862           0.229885  \n",
       "max              0.843750           0.747126           1.494253  "
      ]
     },
     "execution_count": 37,
     "metadata": {},
     "output_type": "execute_result"
    }
   ],
   "source": [
    "X_test_num_cp.describe()"
   ]
  },
  {
   "cell_type": "code",
   "execution_count": 38,
   "metadata": {},
   "outputs": [
    {
     "name": "stderr",
     "output_type": "stream",
     "text": [
      "/home/titowoche30/anaconda3/lib/python3.7/site-packages/ipykernel_launcher.py:2: SettingWithCopyWarning:\n",
      "\n",
      "\n",
      "A value is trying to be set on a copy of a slice from a DataFrame.\n",
      "Try using .loc[row_indexer,col_indexer] = value instead\n",
      "\n",
      "See the caveats in the documentation: https://pandas.pydata.org/pandas-docs/stable/user_guide/indexing.html#returning-a-view-versus-a-copy\n",
      "\n"
     ]
    }
   ],
   "source": [
    "for col in X_test_num_cp.columns:\n",
    "    X_test[col] = X_test_num_cp[col]\n"
   ]
  },
  {
   "cell_type": "code",
   "execution_count": 39,
   "metadata": {},
   "outputs": [
    {
     "name": "stderr",
     "output_type": "stream",
     "text": [
      "/home/titowoche30/anaconda3/lib/python3.7/site-packages/ipykernel_launcher.py:2: SettingWithCopyWarning:\n",
      "\n",
      "\n",
      "A value is trying to be set on a copy of a slice from a DataFrame.\n",
      "Try using .loc[row_indexer,col_indexer] = value instead\n",
      "\n",
      "See the caveats in the documentation: https://pandas.pydata.org/pandas-docs/stable/user_guide/indexing.html#returning-a-view-versus-a-copy\n",
      "\n"
     ]
    }
   ],
   "source": [
    "for col in X_train_num_cp.columns:\n",
    "    X_train[col] = X_train_num_cp[col]"
   ]
  },
  {
   "cell_type": "code",
   "execution_count": 43,
   "metadata": {},
   "outputs": [
    {
     "data": {
      "text/html": [
       "<div>\n",
       "<style scoped>\n",
       "    .dataframe tbody tr th:only-of-type {\n",
       "        vertical-align: middle;\n",
       "    }\n",
       "\n",
       "    .dataframe tbody tr th {\n",
       "        vertical-align: top;\n",
       "    }\n",
       "\n",
       "    .dataframe thead th {\n",
       "        text-align: right;\n",
       "    }\n",
       "</style>\n",
       "<table border=\"1\" class=\"dataframe\">\n",
       "  <thead>\n",
       "    <tr style=\"text-align: right;\">\n",
       "      <th></th>\n",
       "      <th>mintemp</th>\n",
       "      <th>maxtemp</th>\n",
       "      <th>rainfall</th>\n",
       "      <th>evaporation</th>\n",
       "      <th>sunshine</th>\n",
       "      <th>humidity9am</th>\n",
       "      <th>humidity3pm</th>\n",
       "      <th>pressure9am</th>\n",
       "      <th>pressure3pm</th>\n",
       "      <th>cloud9am</th>\n",
       "      <th>cloud3pm</th>\n",
       "      <th>temp9am</th>\n",
       "      <th>temp3pm</th>\n",
       "      <th>raintoday</th>\n",
       "      <th>windgustspeed_wind</th>\n",
       "      <th>windspeed3pm_wind</th>\n",
       "      <th>windspeed9am_wind</th>\n",
       "    </tr>\n",
       "  </thead>\n",
       "  <tbody>\n",
       "    <tr>\n",
       "      <th>count</th>\n",
       "      <td>22229.000000</td>\n",
       "      <td>22229.000000</td>\n",
       "      <td>22229.000000</td>\n",
       "      <td>22229.000000</td>\n",
       "      <td>22229.000000</td>\n",
       "      <td>22229.000000</td>\n",
       "      <td>22229.000000</td>\n",
       "      <td>22229.000000</td>\n",
       "      <td>22229.000000</td>\n",
       "      <td>22229.000000</td>\n",
       "      <td>22229.000000</td>\n",
       "      <td>22229.000000</td>\n",
       "      <td>22229.000000</td>\n",
       "      <td>22229.000000</td>\n",
       "      <td>22229.000000</td>\n",
       "      <td>22229.000000</td>\n",
       "      <td>22229.000000</td>\n",
       "    </tr>\n",
       "    <tr>\n",
       "      <th>mean</th>\n",
       "      <td>0.519274</td>\n",
       "      <td>0.528777</td>\n",
       "      <td>0.009657</td>\n",
       "      <td>0.033259</td>\n",
       "      <td>0.429288</td>\n",
       "      <td>0.718803</td>\n",
       "      <td>0.580203</td>\n",
       "      <td>0.600247</td>\n",
       "      <td>0.623109</td>\n",
       "      <td>0.756214</td>\n",
       "      <td>0.778763</td>\n",
       "      <td>0.538951</td>\n",
       "      <td>0.517468</td>\n",
       "      <td>0.310720</td>\n",
       "      <td>0.268043</td>\n",
       "      <td>0.216449</td>\n",
       "      <td>0.164150</td>\n",
       "    </tr>\n",
       "    <tr>\n",
       "      <th>std</th>\n",
       "      <td>0.164240</td>\n",
       "      <td>0.139201</td>\n",
       "      <td>0.027711</td>\n",
       "      <td>0.020357</td>\n",
       "      <td>0.171690</td>\n",
       "      <td>0.187264</td>\n",
       "      <td>0.210848</td>\n",
       "      <td>0.117000</td>\n",
       "      <td>0.116682</td>\n",
       "      <td>0.277434</td>\n",
       "      <td>0.249192</td>\n",
       "      <td>0.144757</td>\n",
       "      <td>0.135305</td>\n",
       "      <td>0.462799</td>\n",
       "      <td>0.109933</td>\n",
       "      <td>0.101719</td>\n",
       "      <td>0.104149</td>\n",
       "    </tr>\n",
       "    <tr>\n",
       "      <th>min</th>\n",
       "      <td>-0.007712</td>\n",
       "      <td>0.000000</td>\n",
       "      <td>0.000000</td>\n",
       "      <td>0.000000</td>\n",
       "      <td>0.000000</td>\n",
       "      <td>0.000000</td>\n",
       "      <td>0.020202</td>\n",
       "      <td>0.040134</td>\n",
       "      <td>0.018519</td>\n",
       "      <td>0.000000</td>\n",
       "      <td>0.000000</td>\n",
       "      <td>0.000000</td>\n",
       "      <td>0.000000</td>\n",
       "      <td>0.000000</td>\n",
       "      <td>0.000000</td>\n",
       "      <td>0.000000</td>\n",
       "      <td>0.000000</td>\n",
       "    </tr>\n",
       "    <tr>\n",
       "      <th>25%</th>\n",
       "      <td>0.401028</td>\n",
       "      <td>0.424710</td>\n",
       "      <td>0.000000</td>\n",
       "      <td>0.030345</td>\n",
       "      <td>0.432624</td>\n",
       "      <td>0.604167</td>\n",
       "      <td>0.444444</td>\n",
       "      <td>0.531773</td>\n",
       "      <td>0.548822</td>\n",
       "      <td>0.750000</td>\n",
       "      <td>0.875000</td>\n",
       "      <td>0.433036</td>\n",
       "      <td>0.420949</td>\n",
       "      <td>0.000000</td>\n",
       "      <td>0.187500</td>\n",
       "      <td>0.149425</td>\n",
       "      <td>0.080460</td>\n",
       "    </tr>\n",
       "    <tr>\n",
       "      <th>50%</th>\n",
       "      <td>0.508997</td>\n",
       "      <td>0.515444</td>\n",
       "      <td>0.000000</td>\n",
       "      <td>0.030345</td>\n",
       "      <td>0.432624</td>\n",
       "      <td>0.739583</td>\n",
       "      <td>0.585859</td>\n",
       "      <td>0.600334</td>\n",
       "      <td>0.622896</td>\n",
       "      <td>0.875000</td>\n",
       "      <td>0.875000</td>\n",
       "      <td>0.529018</td>\n",
       "      <td>0.505929</td>\n",
       "      <td>0.000000</td>\n",
       "      <td>0.250000</td>\n",
       "      <td>0.218391</td>\n",
       "      <td>0.149425</td>\n",
       "    </tr>\n",
       "    <tr>\n",
       "      <th>75%</th>\n",
       "      <td>0.637532</td>\n",
       "      <td>0.625483</td>\n",
       "      <td>0.006469</td>\n",
       "      <td>0.030345</td>\n",
       "      <td>0.432624</td>\n",
       "      <td>0.864583</td>\n",
       "      <td>0.727273</td>\n",
       "      <td>0.673913</td>\n",
       "      <td>0.696970</td>\n",
       "      <td>0.875000</td>\n",
       "      <td>0.875000</td>\n",
       "      <td>0.638393</td>\n",
       "      <td>0.606719</td>\n",
       "      <td>1.000000</td>\n",
       "      <td>0.335938</td>\n",
       "      <td>0.275862</td>\n",
       "      <td>0.229885</td>\n",
       "    </tr>\n",
       "    <tr>\n",
       "      <th>max</th>\n",
       "      <td>1.000000</td>\n",
       "      <td>1.005792</td>\n",
       "      <td>0.583019</td>\n",
       "      <td>0.515862</td>\n",
       "      <td>0.985816</td>\n",
       "      <td>1.000000</td>\n",
       "      <td>1.000000</td>\n",
       "      <td>1.000000</td>\n",
       "      <td>1.006734</td>\n",
       "      <td>1.000000</td>\n",
       "      <td>1.000000</td>\n",
       "      <td>0.997768</td>\n",
       "      <td>1.029644</td>\n",
       "      <td>1.000000</td>\n",
       "      <td>0.843750</td>\n",
       "      <td>0.747126</td>\n",
       "      <td>1.494253</td>\n",
       "    </tr>\n",
       "  </tbody>\n",
       "</table>\n",
       "</div>"
      ],
      "text/plain": [
       "            mintemp       maxtemp      rainfall   evaporation      sunshine  \\\n",
       "count  22229.000000  22229.000000  22229.000000  22229.000000  22229.000000   \n",
       "mean       0.519274      0.528777      0.009657      0.033259      0.429288   \n",
       "std        0.164240      0.139201      0.027711      0.020357      0.171690   \n",
       "min       -0.007712      0.000000      0.000000      0.000000      0.000000   \n",
       "25%        0.401028      0.424710      0.000000      0.030345      0.432624   \n",
       "50%        0.508997      0.515444      0.000000      0.030345      0.432624   \n",
       "75%        0.637532      0.625483      0.006469      0.030345      0.432624   \n",
       "max        1.000000      1.005792      0.583019      0.515862      0.985816   \n",
       "\n",
       "        humidity9am   humidity3pm   pressure9am   pressure3pm      cloud9am  \\\n",
       "count  22229.000000  22229.000000  22229.000000  22229.000000  22229.000000   \n",
       "mean       0.718803      0.580203      0.600247      0.623109      0.756214   \n",
       "std        0.187264      0.210848      0.117000      0.116682      0.277434   \n",
       "min        0.000000      0.020202      0.040134      0.018519      0.000000   \n",
       "25%        0.604167      0.444444      0.531773      0.548822      0.750000   \n",
       "50%        0.739583      0.585859      0.600334      0.622896      0.875000   \n",
       "75%        0.864583      0.727273      0.673913      0.696970      0.875000   \n",
       "max        1.000000      1.000000      1.000000      1.006734      1.000000   \n",
       "\n",
       "           cloud3pm       temp9am       temp3pm     raintoday  \\\n",
       "count  22229.000000  22229.000000  22229.000000  22229.000000   \n",
       "mean       0.778763      0.538951      0.517468      0.310720   \n",
       "std        0.249192      0.144757      0.135305      0.462799   \n",
       "min        0.000000      0.000000      0.000000      0.000000   \n",
       "25%        0.875000      0.433036      0.420949      0.000000   \n",
       "50%        0.875000      0.529018      0.505929      0.000000   \n",
       "75%        0.875000      0.638393      0.606719      1.000000   \n",
       "max        1.000000      0.997768      1.029644      1.000000   \n",
       "\n",
       "       windgustspeed_wind  windspeed3pm_wind  windspeed9am_wind  \n",
       "count        22229.000000       22229.000000       22229.000000  \n",
       "mean             0.268043           0.216449           0.164150  \n",
       "std              0.109933           0.101719           0.104149  \n",
       "min              0.000000           0.000000           0.000000  \n",
       "25%              0.187500           0.149425           0.080460  \n",
       "50%              0.250000           0.218391           0.149425  \n",
       "75%              0.335938           0.275862           0.229885  \n",
       "max              0.843750           0.747126           1.494253  "
      ]
     },
     "execution_count": 43,
     "metadata": {},
     "output_type": "execute_result"
    }
   ],
   "source": [
    "X_test[numerical].describe()"
   ]
  },
  {
   "cell_type": "code",
   "execution_count": 44,
   "metadata": {},
   "outputs": [
    {
     "data": {
      "text/html": [
       "<div>\n",
       "<style scoped>\n",
       "    .dataframe tbody tr th:only-of-type {\n",
       "        vertical-align: middle;\n",
       "    }\n",
       "\n",
       "    .dataframe tbody tr th {\n",
       "        vertical-align: top;\n",
       "    }\n",
       "\n",
       "    .dataframe thead th {\n",
       "        text-align: right;\n",
       "    }\n",
       "</style>\n",
       "<table border=\"1\" class=\"dataframe\">\n",
       "  <thead>\n",
       "    <tr style=\"text-align: right;\">\n",
       "      <th></th>\n",
       "      <th>mintemp</th>\n",
       "      <th>maxtemp</th>\n",
       "      <th>rainfall</th>\n",
       "      <th>evaporation</th>\n",
       "      <th>sunshine</th>\n",
       "      <th>humidity9am</th>\n",
       "      <th>humidity3pm</th>\n",
       "      <th>pressure9am</th>\n",
       "      <th>pressure3pm</th>\n",
       "      <th>cloud9am</th>\n",
       "      <th>cloud3pm</th>\n",
       "      <th>temp9am</th>\n",
       "      <th>temp3pm</th>\n",
       "      <th>raintoday</th>\n",
       "      <th>windgustspeed_wind</th>\n",
       "      <th>windspeed3pm_wind</th>\n",
       "      <th>windspeed9am_wind</th>\n",
       "    </tr>\n",
       "  </thead>\n",
       "  <tbody>\n",
       "    <tr>\n",
       "      <th>count</th>\n",
       "      <td>51867.000000</td>\n",
       "      <td>51867.000000</td>\n",
       "      <td>51867.000000</td>\n",
       "      <td>51867.000000</td>\n",
       "      <td>51867.000000</td>\n",
       "      <td>51867.000000</td>\n",
       "      <td>51867.000000</td>\n",
       "      <td>51867.000000</td>\n",
       "      <td>51867.000000</td>\n",
       "      <td>51867.000000</td>\n",
       "      <td>51867.000000</td>\n",
       "      <td>51867.000000</td>\n",
       "      <td>51867.000000</td>\n",
       "      <td>51867.000000</td>\n",
       "      <td>51867.000000</td>\n",
       "      <td>51867.000000</td>\n",
       "      <td>51867.000000</td>\n",
       "    </tr>\n",
       "    <tr>\n",
       "      <th>mean</th>\n",
       "      <td>0.518933</td>\n",
       "      <td>0.528669</td>\n",
       "      <td>0.009976</td>\n",
       "      <td>0.033153</td>\n",
       "      <td>0.428552</td>\n",
       "      <td>0.718547</td>\n",
       "      <td>0.579651</td>\n",
       "      <td>0.600076</td>\n",
       "      <td>0.622561</td>\n",
       "      <td>0.755921</td>\n",
       "      <td>0.776062</td>\n",
       "      <td>0.538746</td>\n",
       "      <td>0.517298</td>\n",
       "      <td>0.309079</td>\n",
       "      <td>0.269085</td>\n",
       "      <td>0.217382</td>\n",
       "      <td>0.165127</td>\n",
       "    </tr>\n",
       "    <tr>\n",
       "      <th>std</th>\n",
       "      <td>0.163727</td>\n",
       "      <td>0.138535</td>\n",
       "      <td>0.030221</td>\n",
       "      <td>0.021273</td>\n",
       "      <td>0.173422</td>\n",
       "      <td>0.187842</td>\n",
       "      <td>0.211851</td>\n",
       "      <td>0.116530</td>\n",
       "      <td>0.116108</td>\n",
       "      <td>0.277809</td>\n",
       "      <td>0.250732</td>\n",
       "      <td>0.144193</td>\n",
       "      <td>0.134720</td>\n",
       "      <td>0.462118</td>\n",
       "      <td>0.112242</td>\n",
       "      <td>0.103273</td>\n",
       "      <td>0.103842</td>\n",
       "    </tr>\n",
       "    <tr>\n",
       "      <th>min</th>\n",
       "      <td>0.000000</td>\n",
       "      <td>0.000000</td>\n",
       "      <td>0.000000</td>\n",
       "      <td>0.000000</td>\n",
       "      <td>0.000000</td>\n",
       "      <td>0.000000</td>\n",
       "      <td>0.000000</td>\n",
       "      <td>0.000000</td>\n",
       "      <td>0.000000</td>\n",
       "      <td>0.000000</td>\n",
       "      <td>0.000000</td>\n",
       "      <td>0.000000</td>\n",
       "      <td>0.000000</td>\n",
       "      <td>0.000000</td>\n",
       "      <td>0.000000</td>\n",
       "      <td>0.000000</td>\n",
       "      <td>0.000000</td>\n",
       "    </tr>\n",
       "    <tr>\n",
       "      <th>25%</th>\n",
       "      <td>0.401028</td>\n",
       "      <td>0.424710</td>\n",
       "      <td>0.000000</td>\n",
       "      <td>0.030345</td>\n",
       "      <td>0.432624</td>\n",
       "      <td>0.604167</td>\n",
       "      <td>0.434343</td>\n",
       "      <td>0.530100</td>\n",
       "      <td>0.550505</td>\n",
       "      <td>0.750000</td>\n",
       "      <td>0.750000</td>\n",
       "      <td>0.433036</td>\n",
       "      <td>0.419960</td>\n",
       "      <td>0.000000</td>\n",
       "      <td>0.187500</td>\n",
       "      <td>0.149425</td>\n",
       "      <td>0.080460</td>\n",
       "    </tr>\n",
       "    <tr>\n",
       "      <th>50%</th>\n",
       "      <td>0.508997</td>\n",
       "      <td>0.515444</td>\n",
       "      <td>0.000000</td>\n",
       "      <td>0.030345</td>\n",
       "      <td>0.432624</td>\n",
       "      <td>0.739583</td>\n",
       "      <td>0.585859</td>\n",
       "      <td>0.600334</td>\n",
       "      <td>0.622896</td>\n",
       "      <td>0.875000</td>\n",
       "      <td>0.875000</td>\n",
       "      <td>0.529018</td>\n",
       "      <td>0.505929</td>\n",
       "      <td>0.000000</td>\n",
       "      <td>0.250000</td>\n",
       "      <td>0.218391</td>\n",
       "      <td>0.149425</td>\n",
       "    </tr>\n",
       "    <tr>\n",
       "      <th>75%</th>\n",
       "      <td>0.637532</td>\n",
       "      <td>0.623552</td>\n",
       "      <td>0.005930</td>\n",
       "      <td>0.030345</td>\n",
       "      <td>0.432624</td>\n",
       "      <td>0.864583</td>\n",
       "      <td>0.727273</td>\n",
       "      <td>0.672241</td>\n",
       "      <td>0.693603</td>\n",
       "      <td>0.875000</td>\n",
       "      <td>0.875000</td>\n",
       "      <td>0.638393</td>\n",
       "      <td>0.604743</td>\n",
       "      <td>1.000000</td>\n",
       "      <td>0.335938</td>\n",
       "      <td>0.275862</td>\n",
       "      <td>0.229885</td>\n",
       "    </tr>\n",
       "    <tr>\n",
       "      <th>max</th>\n",
       "      <td>1.000000</td>\n",
       "      <td>1.000000</td>\n",
       "      <td>1.000000</td>\n",
       "      <td>1.000000</td>\n",
       "      <td>1.000000</td>\n",
       "      <td>1.000000</td>\n",
       "      <td>1.000000</td>\n",
       "      <td>1.000000</td>\n",
       "      <td>1.000000</td>\n",
       "      <td>1.000000</td>\n",
       "      <td>1.000000</td>\n",
       "      <td>1.000000</td>\n",
       "      <td>1.000000</td>\n",
       "      <td>1.000000</td>\n",
       "      <td>1.000000</td>\n",
       "      <td>1.000000</td>\n",
       "      <td>1.000000</td>\n",
       "    </tr>\n",
       "  </tbody>\n",
       "</table>\n",
       "</div>"
      ],
      "text/plain": [
       "            mintemp       maxtemp      rainfall   evaporation      sunshine  \\\n",
       "count  51867.000000  51867.000000  51867.000000  51867.000000  51867.000000   \n",
       "mean       0.518933      0.528669      0.009976      0.033153      0.428552   \n",
       "std        0.163727      0.138535      0.030221      0.021273      0.173422   \n",
       "min        0.000000      0.000000      0.000000      0.000000      0.000000   \n",
       "25%        0.401028      0.424710      0.000000      0.030345      0.432624   \n",
       "50%        0.508997      0.515444      0.000000      0.030345      0.432624   \n",
       "75%        0.637532      0.623552      0.005930      0.030345      0.432624   \n",
       "max        1.000000      1.000000      1.000000      1.000000      1.000000   \n",
       "\n",
       "        humidity9am   humidity3pm   pressure9am   pressure3pm      cloud9am  \\\n",
       "count  51867.000000  51867.000000  51867.000000  51867.000000  51867.000000   \n",
       "mean       0.718547      0.579651      0.600076      0.622561      0.755921   \n",
       "std        0.187842      0.211851      0.116530      0.116108      0.277809   \n",
       "min        0.000000      0.000000      0.000000      0.000000      0.000000   \n",
       "25%        0.604167      0.434343      0.530100      0.550505      0.750000   \n",
       "50%        0.739583      0.585859      0.600334      0.622896      0.875000   \n",
       "75%        0.864583      0.727273      0.672241      0.693603      0.875000   \n",
       "max        1.000000      1.000000      1.000000      1.000000      1.000000   \n",
       "\n",
       "           cloud3pm       temp9am       temp3pm     raintoday  \\\n",
       "count  51867.000000  51867.000000  51867.000000  51867.000000   \n",
       "mean       0.776062      0.538746      0.517298      0.309079   \n",
       "std        0.250732      0.144193      0.134720      0.462118   \n",
       "min        0.000000      0.000000      0.000000      0.000000   \n",
       "25%        0.750000      0.433036      0.419960      0.000000   \n",
       "50%        0.875000      0.529018      0.505929      0.000000   \n",
       "75%        0.875000      0.638393      0.604743      1.000000   \n",
       "max        1.000000      1.000000      1.000000      1.000000   \n",
       "\n",
       "       windgustspeed_wind  windspeed3pm_wind  windspeed9am_wind  \n",
       "count        51867.000000       51867.000000       51867.000000  \n",
       "mean             0.269085           0.217382           0.165127  \n",
       "std              0.112242           0.103273           0.103842  \n",
       "min              0.000000           0.000000           0.000000  \n",
       "25%              0.187500           0.149425           0.080460  \n",
       "50%              0.250000           0.218391           0.149425  \n",
       "75%              0.335938           0.275862           0.229885  \n",
       "max              1.000000           1.000000           1.000000  "
      ]
     },
     "execution_count": 44,
     "metadata": {},
     "output_type": "execute_result"
    }
   ],
   "source": [
    "X_train[numerical].describe()"
   ]
  },
  {
   "cell_type": "markdown",
   "metadata": {},
   "source": [
    "# 7 - Encode das variáveis categóricas"
   ]
  },
  {
   "cell_type": "code",
   "execution_count": 45,
   "metadata": {},
   "outputs": [
    {
     "data": {
      "text/plain": [
       "['location', 'winddir3pm_wind', 'winddir9am_wind', 'windgustdir_wind']"
      ]
     },
     "execution_count": 45,
     "metadata": {},
     "output_type": "execute_result"
    }
   ],
   "source": [
    "categorical"
   ]
  },
  {
   "cell_type": "code",
   "execution_count": 46,
   "metadata": {},
   "outputs": [
    {
     "name": "stdout",
     "output_type": "stream",
     "text": [
      "<class 'pandas.core.frame.DataFrame'>\n",
      "Int64Index: 51867 entries, 49228 to 68268\n",
      "Data columns (total 22 columns):\n",
      " #   Column              Non-Null Count  Dtype  \n",
      "---  ------              --------------  -----  \n",
      " 0   index               51867 non-null  int64  \n",
      " 1   location            51867 non-null  object \n",
      " 2   mintemp             51867 non-null  float64\n",
      " 3   maxtemp             51867 non-null  float64\n",
      " 4   rainfall            51867 non-null  float64\n",
      " 5   evaporation         51867 non-null  float64\n",
      " 6   sunshine            51867 non-null  float64\n",
      " 7   humidity9am         51867 non-null  float64\n",
      " 8   humidity3pm         51867 non-null  float64\n",
      " 9   pressure9am         51867 non-null  float64\n",
      " 10  pressure3pm         51867 non-null  float64\n",
      " 11  cloud9am            51867 non-null  float64\n",
      " 12  cloud3pm            51867 non-null  float64\n",
      " 13  temp9am             51867 non-null  float64\n",
      " 14  temp3pm             51867 non-null  float64\n",
      " 15  raintoday           51867 non-null  float64\n",
      " 16  winddir3pm_wind     51867 non-null  object \n",
      " 17  winddir9am_wind     51867 non-null  object \n",
      " 18  windgustdir_wind    51867 non-null  object \n",
      " 19  windgustspeed_wind  51867 non-null  float64\n",
      " 20  windspeed3pm_wind   51867 non-null  float64\n",
      " 21  windspeed9am_wind   51867 non-null  float64\n",
      "dtypes: float64(17), int64(1), object(4)\n",
      "memory usage: 9.1+ MB\n"
     ]
    }
   ],
   "source": [
    "X_train.info()"
   ]
  },
  {
   "cell_type": "code",
   "execution_count": 47,
   "metadata": {},
   "outputs": [
    {
     "data": {
      "text/html": [
       "<div>\n",
       "<style scoped>\n",
       "    .dataframe tbody tr th:only-of-type {\n",
       "        vertical-align: middle;\n",
       "    }\n",
       "\n",
       "    .dataframe tbody tr th {\n",
       "        vertical-align: top;\n",
       "    }\n",
       "\n",
       "    .dataframe thead th {\n",
       "        text-align: right;\n",
       "    }\n",
       "</style>\n",
       "<table border=\"1\" class=\"dataframe\">\n",
       "  <thead>\n",
       "    <tr style=\"text-align: right;\">\n",
       "      <th></th>\n",
       "      <th>location</th>\n",
       "      <th>winddir3pm_wind</th>\n",
       "      <th>winddir9am_wind</th>\n",
       "      <th>windgustdir_wind</th>\n",
       "    </tr>\n",
       "  </thead>\n",
       "  <tbody>\n",
       "    <tr>\n",
       "      <th>49228</th>\n",
       "      <td>Wollongong</td>\n",
       "      <td>S</td>\n",
       "      <td>S</td>\n",
       "      <td>S</td>\n",
       "    </tr>\n",
       "    <tr>\n",
       "      <th>45080</th>\n",
       "      <td>Witchcliffe</td>\n",
       "      <td>N</td>\n",
       "      <td>N</td>\n",
       "      <td>N</td>\n",
       "    </tr>\n",
       "    <tr>\n",
       "      <th>61717</th>\n",
       "      <td>Launceston</td>\n",
       "      <td>NW</td>\n",
       "      <td>NNW</td>\n",
       "      <td>NNW</td>\n",
       "    </tr>\n",
       "    <tr>\n",
       "      <th>595</th>\n",
       "      <td>Cairns</td>\n",
       "      <td>SSE</td>\n",
       "      <td>ESE</td>\n",
       "      <td>ENE</td>\n",
       "    </tr>\n",
       "    <tr>\n",
       "      <th>18310</th>\n",
       "      <td>NorfolkIsland</td>\n",
       "      <td>NE</td>\n",
       "      <td>ENE</td>\n",
       "      <td>NE</td>\n",
       "    </tr>\n",
       "  </tbody>\n",
       "</table>\n",
       "</div>"
      ],
      "text/plain": [
       "            location winddir3pm_wind winddir9am_wind windgustdir_wind\n",
       "49228     Wollongong               S               S                S\n",
       "45080    Witchcliffe               N               N                N\n",
       "61717     Launceston              NW             NNW              NNW\n",
       "595           Cairns             SSE             ESE              ENE\n",
       "18310  NorfolkIsland              NE             ENE               NE"
      ]
     },
     "execution_count": 47,
     "metadata": {},
     "output_type": "execute_result"
    }
   ],
   "source": [
    "X_train[categorical].head()"
   ]
  },
  {
   "cell_type": "markdown",
   "metadata": {},
   "source": [
    "## Usando a técnica de dummy variables pra fazer o encode"
   ]
  },
  {
   "cell_type": "code",
   "execution_count": 48,
   "metadata": {},
   "outputs": [],
   "source": [
    "X_train = pd.concat([X_train[numerical],\n",
    "                     pd.get_dummies(X_train['location']), \n",
    "                     pd.get_dummies(X_train['windgustdir_wind']),\n",
    "                     pd.get_dummies(X_train['winddir9am_wind']),\n",
    "                     pd.get_dummies(X_train['winddir3pm_wind'])], axis=1)"
   ]
  },
  {
   "cell_type": "code",
   "execution_count": 49,
   "metadata": {},
   "outputs": [
    {
     "data": {
      "text/html": [
       "<div>\n",
       "<style scoped>\n",
       "    .dataframe tbody tr th:only-of-type {\n",
       "        vertical-align: middle;\n",
       "    }\n",
       "\n",
       "    .dataframe tbody tr th {\n",
       "        vertical-align: top;\n",
       "    }\n",
       "\n",
       "    .dataframe thead th {\n",
       "        text-align: right;\n",
       "    }\n",
       "</style>\n",
       "<table border=\"1\" class=\"dataframe\">\n",
       "  <thead>\n",
       "    <tr style=\"text-align: right;\">\n",
       "      <th></th>\n",
       "      <th>mintemp</th>\n",
       "      <th>maxtemp</th>\n",
       "      <th>rainfall</th>\n",
       "      <th>evaporation</th>\n",
       "      <th>sunshine</th>\n",
       "      <th>humidity9am</th>\n",
       "      <th>humidity3pm</th>\n",
       "      <th>pressure9am</th>\n",
       "      <th>pressure3pm</th>\n",
       "      <th>cloud9am</th>\n",
       "      <th>...</th>\n",
       "      <th>NNW</th>\n",
       "      <th>NW</th>\n",
       "      <th>S</th>\n",
       "      <th>SE</th>\n",
       "      <th>SSE</th>\n",
       "      <th>SSW</th>\n",
       "      <th>SW</th>\n",
       "      <th>W</th>\n",
       "      <th>WNW</th>\n",
       "      <th>WSW</th>\n",
       "    </tr>\n",
       "  </thead>\n",
       "  <tbody>\n",
       "    <tr>\n",
       "      <th>49228</th>\n",
       "      <td>0.642674</td>\n",
       "      <td>0.445946</td>\n",
       "      <td>0.000000</td>\n",
       "      <td>0.030345</td>\n",
       "      <td>0.432624</td>\n",
       "      <td>0.760417</td>\n",
       "      <td>0.777778</td>\n",
       "      <td>0.620401</td>\n",
       "      <td>0.712121</td>\n",
       "      <td>1.000</td>\n",
       "      <td>...</td>\n",
       "      <td>0</td>\n",
       "      <td>0</td>\n",
       "      <td>1</td>\n",
       "      <td>0</td>\n",
       "      <td>0</td>\n",
       "      <td>0</td>\n",
       "      <td>0</td>\n",
       "      <td>0</td>\n",
       "      <td>0</td>\n",
       "      <td>0</td>\n",
       "    </tr>\n",
       "    <tr>\n",
       "      <th>45080</th>\n",
       "      <td>0.375321</td>\n",
       "      <td>0.465251</td>\n",
       "      <td>0.000000</td>\n",
       "      <td>0.030345</td>\n",
       "      <td>0.432624</td>\n",
       "      <td>0.697917</td>\n",
       "      <td>0.797980</td>\n",
       "      <td>0.488294</td>\n",
       "      <td>0.444444</td>\n",
       "      <td>0.875</td>\n",
       "      <td>...</td>\n",
       "      <td>0</td>\n",
       "      <td>0</td>\n",
       "      <td>0</td>\n",
       "      <td>0</td>\n",
       "      <td>0</td>\n",
       "      <td>0</td>\n",
       "      <td>0</td>\n",
       "      <td>0</td>\n",
       "      <td>0</td>\n",
       "      <td>0</td>\n",
       "    </tr>\n",
       "    <tr>\n",
       "      <th>61717</th>\n",
       "      <td>0.457584</td>\n",
       "      <td>0.471042</td>\n",
       "      <td>0.000000</td>\n",
       "      <td>0.030345</td>\n",
       "      <td>0.432624</td>\n",
       "      <td>0.739583</td>\n",
       "      <td>0.656566</td>\n",
       "      <td>0.600334</td>\n",
       "      <td>0.622896</td>\n",
       "      <td>0.750</td>\n",
       "      <td>...</td>\n",
       "      <td>0</td>\n",
       "      <td>1</td>\n",
       "      <td>0</td>\n",
       "      <td>0</td>\n",
       "      <td>0</td>\n",
       "      <td>0</td>\n",
       "      <td>0</td>\n",
       "      <td>0</td>\n",
       "      <td>0</td>\n",
       "      <td>0</td>\n",
       "    </tr>\n",
       "    <tr>\n",
       "      <th>595</th>\n",
       "      <td>0.822622</td>\n",
       "      <td>0.698842</td>\n",
       "      <td>0.028032</td>\n",
       "      <td>0.044138</td>\n",
       "      <td>0.446809</td>\n",
       "      <td>0.718750</td>\n",
       "      <td>0.888889</td>\n",
       "      <td>0.521739</td>\n",
       "      <td>0.557239</td>\n",
       "      <td>0.375</td>\n",
       "      <td>...</td>\n",
       "      <td>0</td>\n",
       "      <td>0</td>\n",
       "      <td>0</td>\n",
       "      <td>0</td>\n",
       "      <td>1</td>\n",
       "      <td>0</td>\n",
       "      <td>0</td>\n",
       "      <td>0</td>\n",
       "      <td>0</td>\n",
       "      <td>0</td>\n",
       "    </tr>\n",
       "    <tr>\n",
       "      <th>18310</th>\n",
       "      <td>0.655527</td>\n",
       "      <td>0.513514</td>\n",
       "      <td>0.000000</td>\n",
       "      <td>0.040000</td>\n",
       "      <td>0.170213</td>\n",
       "      <td>0.791667</td>\n",
       "      <td>0.727273</td>\n",
       "      <td>0.586957</td>\n",
       "      <td>0.607744</td>\n",
       "      <td>1.000</td>\n",
       "      <td>...</td>\n",
       "      <td>0</td>\n",
       "      <td>0</td>\n",
       "      <td>0</td>\n",
       "      <td>0</td>\n",
       "      <td>0</td>\n",
       "      <td>0</td>\n",
       "      <td>0</td>\n",
       "      <td>0</td>\n",
       "      <td>0</td>\n",
       "      <td>0</td>\n",
       "    </tr>\n",
       "  </tbody>\n",
       "</table>\n",
       "<p>5 rows × 114 columns</p>\n",
       "</div>"
      ],
      "text/plain": [
       "        mintemp   maxtemp  rainfall  evaporation  sunshine  humidity9am  \\\n",
       "49228  0.642674  0.445946  0.000000     0.030345  0.432624     0.760417   \n",
       "45080  0.375321  0.465251  0.000000     0.030345  0.432624     0.697917   \n",
       "61717  0.457584  0.471042  0.000000     0.030345  0.432624     0.739583   \n",
       "595    0.822622  0.698842  0.028032     0.044138  0.446809     0.718750   \n",
       "18310  0.655527  0.513514  0.000000     0.040000  0.170213     0.791667   \n",
       "\n",
       "       humidity3pm  pressure9am  pressure3pm  cloud9am  ...  NNW  NW  S  SE  \\\n",
       "49228     0.777778     0.620401     0.712121     1.000  ...    0   0  1   0   \n",
       "45080     0.797980     0.488294     0.444444     0.875  ...    0   0  0   0   \n",
       "61717     0.656566     0.600334     0.622896     0.750  ...    0   1  0   0   \n",
       "595       0.888889     0.521739     0.557239     0.375  ...    0   0  0   0   \n",
       "18310     0.727273     0.586957     0.607744     1.000  ...    0   0  0   0   \n",
       "\n",
       "       SSE  SSW  SW  W  WNW  WSW  \n",
       "49228    0    0   0  0    0    0  \n",
       "45080    0    0   0  0    0    0  \n",
       "61717    0    0   0  0    0    0  \n",
       "595      1    0   0  0    0    0  \n",
       "18310    0    0   0  0    0    0  \n",
       "\n",
       "[5 rows x 114 columns]"
      ]
     },
     "execution_count": 49,
     "metadata": {},
     "output_type": "execute_result"
    }
   ],
   "source": [
    "X_train.head()"
   ]
  },
  {
   "cell_type": "code",
   "execution_count": 50,
   "metadata": {},
   "outputs": [],
   "source": [
    "X_test = pd.concat([X_test[numerical], \n",
    "                     pd.get_dummies(X_test['location']), \n",
    "                     pd.get_dummies(X_test['windgustdir_wind']),\n",
    "                     pd.get_dummies(X_test['winddir9am_wind']),\n",
    "                     pd.get_dummies(X_test['winddir3pm_wind'])], axis=1)"
   ]
  },
  {
   "cell_type": "code",
   "execution_count": 51,
   "metadata": {},
   "outputs": [
    {
     "data": {
      "text/html": [
       "<div>\n",
       "<style scoped>\n",
       "    .dataframe tbody tr th:only-of-type {\n",
       "        vertical-align: middle;\n",
       "    }\n",
       "\n",
       "    .dataframe tbody tr th {\n",
       "        vertical-align: top;\n",
       "    }\n",
       "\n",
       "    .dataframe thead th {\n",
       "        text-align: right;\n",
       "    }\n",
       "</style>\n",
       "<table border=\"1\" class=\"dataframe\">\n",
       "  <thead>\n",
       "    <tr style=\"text-align: right;\">\n",
       "      <th></th>\n",
       "      <th>mintemp</th>\n",
       "      <th>maxtemp</th>\n",
       "      <th>rainfall</th>\n",
       "      <th>evaporation</th>\n",
       "      <th>sunshine</th>\n",
       "      <th>humidity9am</th>\n",
       "      <th>humidity3pm</th>\n",
       "      <th>pressure9am</th>\n",
       "      <th>pressure3pm</th>\n",
       "      <th>cloud9am</th>\n",
       "      <th>...</th>\n",
       "      <th>NNW</th>\n",
       "      <th>NW</th>\n",
       "      <th>S</th>\n",
       "      <th>SE</th>\n",
       "      <th>SSE</th>\n",
       "      <th>SSW</th>\n",
       "      <th>SW</th>\n",
       "      <th>W</th>\n",
       "      <th>WNW</th>\n",
       "      <th>WSW</th>\n",
       "    </tr>\n",
       "  </thead>\n",
       "  <tbody>\n",
       "    <tr>\n",
       "      <th>35234</th>\n",
       "      <td>0.508997</td>\n",
       "      <td>0.554054</td>\n",
       "      <td>0.000000</td>\n",
       "      <td>0.053793</td>\n",
       "      <td>0.709220</td>\n",
       "      <td>0.656250</td>\n",
       "      <td>0.353535</td>\n",
       "      <td>0.685619</td>\n",
       "      <td>0.696970</td>\n",
       "      <td>0.000</td>\n",
       "      <td>...</td>\n",
       "      <td>0</td>\n",
       "      <td>0</td>\n",
       "      <td>0</td>\n",
       "      <td>0</td>\n",
       "      <td>0</td>\n",
       "      <td>0</td>\n",
       "      <td>0</td>\n",
       "      <td>0</td>\n",
       "      <td>0</td>\n",
       "      <td>0</td>\n",
       "    </tr>\n",
       "    <tr>\n",
       "      <th>9069</th>\n",
       "      <td>0.611825</td>\n",
       "      <td>0.534749</td>\n",
       "      <td>0.002156</td>\n",
       "      <td>0.031724</td>\n",
       "      <td>0.141844</td>\n",
       "      <td>0.781250</td>\n",
       "      <td>0.888889</td>\n",
       "      <td>0.632107</td>\n",
       "      <td>0.707071</td>\n",
       "      <td>1.000</td>\n",
       "      <td>...</td>\n",
       "      <td>0</td>\n",
       "      <td>0</td>\n",
       "      <td>1</td>\n",
       "      <td>0</td>\n",
       "      <td>0</td>\n",
       "      <td>0</td>\n",
       "      <td>0</td>\n",
       "      <td>0</td>\n",
       "      <td>0</td>\n",
       "      <td>0</td>\n",
       "    </tr>\n",
       "    <tr>\n",
       "      <th>3997</th>\n",
       "      <td>0.838046</td>\n",
       "      <td>0.627413</td>\n",
       "      <td>0.000539</td>\n",
       "      <td>0.166897</td>\n",
       "      <td>0.347518</td>\n",
       "      <td>0.437500</td>\n",
       "      <td>0.565657</td>\n",
       "      <td>0.530100</td>\n",
       "      <td>0.602694</td>\n",
       "      <td>1.000</td>\n",
       "      <td>...</td>\n",
       "      <td>0</td>\n",
       "      <td>0</td>\n",
       "      <td>1</td>\n",
       "      <td>0</td>\n",
       "      <td>0</td>\n",
       "      <td>0</td>\n",
       "      <td>0</td>\n",
       "      <td>0</td>\n",
       "      <td>0</td>\n",
       "      <td>0</td>\n",
       "    </tr>\n",
       "    <tr>\n",
       "      <th>10406</th>\n",
       "      <td>0.354756</td>\n",
       "      <td>0.279923</td>\n",
       "      <td>0.069003</td>\n",
       "      <td>0.026207</td>\n",
       "      <td>0.007092</td>\n",
       "      <td>0.927083</td>\n",
       "      <td>0.929293</td>\n",
       "      <td>0.526756</td>\n",
       "      <td>0.575758</td>\n",
       "      <td>1.000</td>\n",
       "      <td>...</td>\n",
       "      <td>0</td>\n",
       "      <td>0</td>\n",
       "      <td>0</td>\n",
       "      <td>0</td>\n",
       "      <td>0</td>\n",
       "      <td>0</td>\n",
       "      <td>0</td>\n",
       "      <td>0</td>\n",
       "      <td>1</td>\n",
       "      <td>0</td>\n",
       "    </tr>\n",
       "    <tr>\n",
       "      <th>21156</th>\n",
       "      <td>0.293059</td>\n",
       "      <td>0.422780</td>\n",
       "      <td>0.000000</td>\n",
       "      <td>0.016552</td>\n",
       "      <td>0.127660</td>\n",
       "      <td>0.729167</td>\n",
       "      <td>0.858586</td>\n",
       "      <td>0.715719</td>\n",
       "      <td>0.740741</td>\n",
       "      <td>0.875</td>\n",
       "      <td>...</td>\n",
       "      <td>0</td>\n",
       "      <td>0</td>\n",
       "      <td>0</td>\n",
       "      <td>0</td>\n",
       "      <td>0</td>\n",
       "      <td>0</td>\n",
       "      <td>0</td>\n",
       "      <td>0</td>\n",
       "      <td>1</td>\n",
       "      <td>0</td>\n",
       "    </tr>\n",
       "  </tbody>\n",
       "</table>\n",
       "<p>5 rows × 114 columns</p>\n",
       "</div>"
      ],
      "text/plain": [
       "        mintemp   maxtemp  rainfall  evaporation  sunshine  humidity9am  \\\n",
       "35234  0.508997  0.554054  0.000000     0.053793  0.709220     0.656250   \n",
       "9069   0.611825  0.534749  0.002156     0.031724  0.141844     0.781250   \n",
       "3997   0.838046  0.627413  0.000539     0.166897  0.347518     0.437500   \n",
       "10406  0.354756  0.279923  0.069003     0.026207  0.007092     0.927083   \n",
       "21156  0.293059  0.422780  0.000000     0.016552  0.127660     0.729167   \n",
       "\n",
       "       humidity3pm  pressure9am  pressure3pm  cloud9am  ...  NNW  NW  S  SE  \\\n",
       "35234     0.353535     0.685619     0.696970     0.000  ...    0   0  0   0   \n",
       "9069      0.888889     0.632107     0.707071     1.000  ...    0   0  1   0   \n",
       "3997      0.565657     0.530100     0.602694     1.000  ...    0   0  1   0   \n",
       "10406     0.929293     0.526756     0.575758     1.000  ...    0   0  0   0   \n",
       "21156     0.858586     0.715719     0.740741     0.875  ...    0   0  0   0   \n",
       "\n",
       "       SSE  SSW  SW  W  WNW  WSW  \n",
       "35234    0    0   0  0    0    0  \n",
       "9069     0    0   0  0    0    0  \n",
       "3997     0    0   0  0    0    0  \n",
       "10406    0    0   0  0    1    0  \n",
       "21156    0    0   0  0    1    0  \n",
       "\n",
       "[5 rows x 114 columns]"
      ]
     },
     "execution_count": 51,
     "metadata": {},
     "output_type": "execute_result"
    }
   ],
   "source": [
    "X_test.head()"
   ]
  },
  {
   "cell_type": "code",
   "execution_count": 52,
   "metadata": {},
   "outputs": [
    {
     "data": {
      "text/plain": [
       "(22229, 114)"
      ]
     },
     "execution_count": 52,
     "metadata": {},
     "output_type": "execute_result"
    }
   ],
   "source": [
    "X_test.shape"
   ]
  },
  {
   "cell_type": "code",
   "execution_count": 53,
   "metadata": {},
   "outputs": [
    {
     "data": {
      "text/plain": [
       "(51867, 114)"
      ]
     },
     "execution_count": 53,
     "metadata": {},
     "output_type": "execute_result"
    }
   ],
   "source": [
    "X_train.shape"
   ]
  },
  {
   "cell_type": "markdown",
   "metadata": {},
   "source": [
    "# 8 - Modelos"
   ]
  },
  {
   "cell_type": "code",
   "execution_count": 54,
   "metadata": {},
   "outputs": [],
   "source": [
    "dict_classifiers = {\"Floresta Aleatória\": RandomForestClassifier(random_state=0),\n",
    "    \"Vizinhos mais próximos\": KNeighborsClassifier(),\n",
    "    \"Árvore de Decisão\": DecisionTreeClassifier(random_state=0),\n",
    "    \"Naive Bayes\": GaussianNB(),\n",
    "    \"Regressão Logística\": LogisticRegression(solver = \"liblinear\",random_state=0),\n",
    "    \"Gradient Boosting\": GradientBoostingClassifier(random_state=0),\n",
    "}"
   ]
  },
  {
   "cell_type": "code",
   "execution_count": 55,
   "metadata": {},
   "outputs": [],
   "source": [
    "classifiers_names = list(dict_classifiers.keys())"
   ]
  },
  {
   "cell_type": "code",
   "execution_count": 56,
   "metadata": {},
   "outputs": [],
   "source": [
    "classifiers_values=list(dict_classifiers.values())"
   ]
  },
  {
   "cell_type": "code",
   "execution_count": 57,
   "metadata": {},
   "outputs": [],
   "source": [
    "def train_model(model):\n",
    "    t0 = time.time()\n",
    "    model.fit(X_train,y_train)\n",
    "    tf = time.time()\n",
    "    times=tf-t0\n",
    "    print('Treinou em {:.3f} segundos '.format(times))\n",
    "    prec = float(\"{0:.3f}\".format(model.score(X_test,y_test)))\n",
    "    print(\"Precisao = \",prec)\n",
    "    \n",
    "    return prec,times"
   ]
  },
  {
   "cell_type": "code",
   "execution_count": 58,
   "metadata": {},
   "outputs": [
    {
     "name": "stdout",
     "output_type": "stream",
     "text": [
      "------------------Floresta Aleatória------------------\n",
      "Treinou em 9.019 segundos \n",
      "Precisao =  0.901\n",
      "------------------Vizinhos mais próximos------------------\n",
      "Treinou em 1.230 segundos \n",
      "Precisao =  0.745\n",
      "------------------Árvore de Decisão------------------\n",
      "Treinou em 1.021 segundos \n",
      "Precisao =  0.857\n",
      "------------------Naive Bayes------------------\n",
      "Treinou em 0.111 segundos \n",
      "Precisao =  0.649\n",
      "------------------Regressão Logística------------------\n",
      "Treinou em 0.643 segundos \n",
      "Precisao =  0.777\n",
      "------------------Gradient Boosting------------------\n",
      "Treinou em 15.840 segundos \n",
      "Precisao =  0.795\n"
     ]
    }
   ],
   "source": [
    "times,precs = [],[]\n",
    "for key,value in zip(classifiers_names,classifiers_values):\n",
    "    print('------------------{}------------------'.format(key))\n",
    "    prec,Time=train_model(value)\n",
    "    precs.append(prec)\n",
    "    times.append(Time)"
   ]
  },
  {
   "cell_type": "code",
   "execution_count": 59,
   "metadata": {},
   "outputs": [
    {
     "data": {
      "text/html": [
       "<div>\n",
       "<style scoped>\n",
       "    .dataframe tbody tr th:only-of-type {\n",
       "        vertical-align: middle;\n",
       "    }\n",
       "\n",
       "    .dataframe tbody tr th {\n",
       "        vertical-align: top;\n",
       "    }\n",
       "\n",
       "    .dataframe thead th {\n",
       "        text-align: right;\n",
       "    }\n",
       "</style>\n",
       "<table border=\"1\" class=\"dataframe\">\n",
       "  <thead>\n",
       "    <tr style=\"text-align: right;\">\n",
       "      <th></th>\n",
       "      <th>Tempo (seg)</th>\n",
       "      <th>Precisão</th>\n",
       "    </tr>\n",
       "  </thead>\n",
       "  <tbody>\n",
       "    <tr>\n",
       "      <th>Floresta Aleatória</th>\n",
       "      <td>9.018698</td>\n",
       "      <td>0.901</td>\n",
       "    </tr>\n",
       "    <tr>\n",
       "      <th>Vizinhos mais próximos</th>\n",
       "      <td>1.229955</td>\n",
       "      <td>0.745</td>\n",
       "    </tr>\n",
       "    <tr>\n",
       "      <th>Árvore de Decisão</th>\n",
       "      <td>1.021255</td>\n",
       "      <td>0.857</td>\n",
       "    </tr>\n",
       "    <tr>\n",
       "      <th>Naive Bayes</th>\n",
       "      <td>0.110591</td>\n",
       "      <td>0.649</td>\n",
       "    </tr>\n",
       "    <tr>\n",
       "      <th>Regressão Logística</th>\n",
       "      <td>0.642936</td>\n",
       "      <td>0.777</td>\n",
       "    </tr>\n",
       "    <tr>\n",
       "      <th>Gradient Boosting</th>\n",
       "      <td>15.840008</td>\n",
       "      <td>0.795</td>\n",
       "    </tr>\n",
       "  </tbody>\n",
       "</table>\n",
       "</div>"
      ],
      "text/plain": [
       "                        Tempo (seg)  Precisão\n",
       "Floresta Aleatória         9.018698     0.901\n",
       "Vizinhos mais próximos     1.229955     0.745\n",
       "Árvore de Decisão          1.021255     0.857\n",
       "Naive Bayes                0.110591     0.649\n",
       "Regressão Logística        0.642936     0.777\n",
       "Gradient Boosting         15.840008     0.795"
      ]
     },
     "execution_count": 59,
     "metadata": {},
     "output_type": "execute_result"
    }
   ],
   "source": [
    "data_times = pd.DataFrame(index=classifiers_names,data=np.transpose([times,precs]),columns=['Tempo (seg)','Precisão'])\n",
    "data_times"
   ]
  },
  {
   "cell_type": "markdown",
   "metadata": {},
   "source": [
    "## Levando em conta  as precisões, Floresta Aleatória foi o classificador que se saiu melhor"
   ]
  },
  {
   "cell_type": "markdown",
   "metadata": {},
   "source": [
    "# 8 - Validação do Modelo"
   ]
  },
  {
   "cell_type": "code",
   "execution_count": 60,
   "metadata": {},
   "outputs": [
    {
     "data": {
      "text/plain": [
       "RandomForestClassifier(bootstrap=True, ccp_alpha=0.0, class_weight=None,\n",
       "                       criterion='gini', max_depth=None, max_features='auto',\n",
       "                       max_leaf_nodes=None, max_samples=None,\n",
       "                       min_impurity_decrease=0.0, min_impurity_split=None,\n",
       "                       min_samples_leaf=1, min_samples_split=2,\n",
       "                       min_weight_fraction_leaf=0.0, n_estimators=100,\n",
       "                       n_jobs=None, oob_score=False, random_state=0, verbose=0,\n",
       "                       warm_start=False)"
      ]
     },
     "execution_count": 60,
     "metadata": {},
     "output_type": "execute_result"
    }
   ],
   "source": [
    "model = RandomForestClassifier(random_state=0)\n",
    "model.fit(X_train, y_train)"
   ]
  },
  {
   "cell_type": "code",
   "execution_count": 61,
   "metadata": {},
   "outputs": [
    {
     "data": {
      "text/plain": [
       "['modelo_random_forest.joblib']"
      ]
     },
     "execution_count": 61,
     "metadata": {},
     "output_type": "execute_result"
    }
   ],
   "source": [
    "dump(model, 'modelo_random_forest.joblib') "
   ]
  },
  {
   "cell_type": "code",
   "execution_count": 98,
   "metadata": {},
   "outputs": [],
   "source": [
    "model = load('modelo_random_forest.joblib')"
   ]
  },
  {
   "cell_type": "code",
   "execution_count": 62,
   "metadata": {},
   "outputs": [
    {
     "data": {
      "text/plain": [
       "0.901345089747627"
      ]
     },
     "execution_count": 62,
     "metadata": {},
     "output_type": "execute_result"
    }
   ],
   "source": [
    "model.score(X_test,y_test)"
   ]
  },
  {
   "cell_type": "markdown",
   "metadata": {},
   "source": [
    "## Validação Cruzada em todos os dados"
   ]
  },
  {
   "cell_type": "code",
   "execution_count": 67,
   "metadata": {},
   "outputs": [
    {
     "data": {
      "text/plain": [
       "array([0.91666667, 0.91571631, 0.91585127, 0.91247723, 0.91477158])"
      ]
     },
     "execution_count": 67,
     "metadata": {},
     "output_type": "execute_result"
    }
   ],
   "source": [
    "scores = cross_val_score(model, pd.concat([X_train,X_test]), pd.concat([y_train,y_test]), cv = 5, scoring='accuracy')\n",
    "scores"
   ]
  },
  {
   "cell_type": "code",
   "execution_count": 68,
   "metadata": {},
   "outputs": [
    {
     "data": {
      "text/plain": [
       "0.9150966102076163"
      ]
     },
     "execution_count": 68,
     "metadata": {},
     "output_type": "execute_result"
    }
   ],
   "source": [
    "scores.mean()"
   ]
  },
  {
   "cell_type": "markdown",
   "metadata": {},
   "source": [
    "## Conferindo se há overfitting"
   ]
  },
  {
   "cell_type": "code",
   "execution_count": 69,
   "metadata": {},
   "outputs": [
    {
     "name": "stdout",
     "output_type": "stream",
     "text": [
      "Score treino: 0.9999035995912623\n",
      "Score teste: 0.901345089747627\n"
     ]
    }
   ],
   "source": [
    "print('Score treino: {}'.format(model.score(X_train, y_train)))\n",
    "print('Score teste: {}'.format(model.score(X_test, y_test)))"
   ]
  },
  {
   "cell_type": "markdown",
   "metadata": {},
   "source": [
    "## Matriz de Confusão"
   ]
  },
  {
   "cell_type": "code",
   "execution_count": 70,
   "metadata": {},
   "outputs": [],
   "source": [
    "y_pred_test = model.predict(X_test)"
   ]
  },
  {
   "cell_type": "code",
   "execution_count": 71,
   "metadata": {},
   "outputs": [
    {
     "data": {
      "text/plain": [
       "array([[10459,   738],\n",
       "       [ 1455,  9577]])"
      ]
     },
     "execution_count": 71,
     "metadata": {},
     "output_type": "execute_result"
    }
   ],
   "source": [
    "conf_matrix = confusion_matrix(y_test, y_pred_test)\n",
    "conf_matrix"
   ]
  },
  {
   "cell_type": "code",
   "execution_count": 74,
   "metadata": {},
   "outputs": [
    {
     "name": "stdout",
     "output_type": "stream",
     "text": [
      "Taxa de True Negatives =  0.471\n",
      "Taxa de True Positives =  0.431\n",
      "Taxa de False Positives - Erro Tipo I =  0.033\n",
      "Taxa de False Negatives - Erro Tipo II =  0.065\n"
     ]
    }
   ],
   "source": [
    "print('Taxa de True Negatives = ', round((conf_matrix[0,0] / y_test.shape[0]),3))\n",
    "print('Taxa de True Positives = ', round((conf_matrix[1,1]/ y_test.shape[0]),3))\n",
    "print('Taxa de False Positives - Erro Tipo I = ', round((conf_matrix[0,1]/ y_test.shape[0]),3))\n",
    "print('Taxa de False Negatives - Erro Tipo II = ', round((conf_matrix[1,0]/ y_test.shape[0]),3))"
   ]
  },
  {
   "cell_type": "markdown",
   "metadata": {},
   "source": [
    "### True Negative (TN): Não choveu e foi predito que não choveria.\n",
    "###  True Positive (TP): Choveu e foi predito que choveria.\n",
    "### False Negative (FN): Choveu e foi predito que não choveria.\n",
    "### False Positive (FP): Não choveu e foi predito que choveria."
   ]
  },
  {
   "cell_type": "code",
   "execution_count": 75,
   "metadata": {},
   "outputs": [
    {
     "name": "stdout",
     "output_type": "stream",
     "text": [
      "22229 Amostras\n",
      "20036 Classificações corretas\n",
      "2193 Classificações incorretas\n"
     ]
    }
   ],
   "source": [
    "print('{} Amostras'.format(X_test.shape[0]))\n",
    "print('{} Classificações corretas'.format(conf_matrix[0,0] + conf_matrix[1,1]))\n",
    "print('{} Classificações incorretas'.format(conf_matrix[0,1] + conf_matrix[1,0]))"
   ]
  },
  {
   "cell_type": "markdown",
   "metadata": {},
   "source": [
    "## Classification Report"
   ]
  },
  {
   "cell_type": "code",
   "execution_count": 76,
   "metadata": {},
   "outputs": [
    {
     "name": "stdout",
     "output_type": "stream",
     "text": [
      "              precision    recall  f1-score   support\n",
      "\n",
      "           0       0.88      0.93      0.91     11197\n",
      "           1       0.93      0.87      0.90     11032\n",
      "\n",
      "    accuracy                           0.90     22229\n",
      "   macro avg       0.90      0.90      0.90     22229\n",
      "weighted avg       0.90      0.90      0.90     22229\n",
      "\n"
     ]
    }
   ],
   "source": [
    "print(classification_report(y_test, y_pred_test))"
   ]
  },
  {
   "cell_type": "markdown",
   "metadata": {},
   "source": [
    "### Precision: É uma medida da habilidade de um classificador de não dizer que uma label é positiva quando na verdade ela é negativa.\n",
    "### Para cada classe é feita a razão: $\\dfrac{TP}{TP+FP}$ "
   ]
  },
  {
   "cell_type": "markdown",
   "metadata": {},
   "source": [
    "### Recall: É uma medida da habilidade de um classificador de achar todas as instâncias positivas.\n",
    "### Para cada classe é feita a razão: $\\dfrac{TP}{TP+FN}$ "
   ]
  },
  {
   "cell_type": "markdown",
   "metadata": {},
   "source": [
    "### f1-score: É a média harmônica ponderada de precision e recall onde o melhor valor é 1 e o pior 0.\n",
    "### Para cada classe é feita a razão: $\\dfrac{2 * (recall * precision)}{(recall + precision)}$ "
   ]
  },
  {
   "cell_type": "markdown",
   "metadata": {},
   "source": [
    "# O modelo está prevendo as duas classes muito bem. O score de treino foi quase 100%, ou seja, o modelo provavelmente decorou os dados, mas a validação cruzada teve uma alta taxa, então está tudo ok."
   ]
  }
 ],
 "metadata": {
  "kernelspec": {
   "display_name": "Python 3",
   "language": "python",
   "name": "python3"
  },
  "language_info": {
   "codemirror_mode": {
    "name": "ipython",
    "version": 3
   },
   "file_extension": ".py",
   "mimetype": "text/x-python",
   "name": "python",
   "nbconvert_exporter": "python",
   "pygments_lexer": "ipython3",
   "version": "3.7.6"
  }
 },
 "nbformat": 4,
 "nbformat_minor": 2
}
